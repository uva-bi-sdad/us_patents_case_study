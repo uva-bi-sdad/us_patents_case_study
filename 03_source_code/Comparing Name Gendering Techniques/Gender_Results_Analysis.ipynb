{
 "cells": [
  {
   "cell_type": "code",
   "execution_count": 25,
   "metadata": {},
   "outputs": [],
   "source": [
    "import pandas as pd"
   ]
  },
  {
   "cell_type": "code",
   "execution_count": 26,
   "metadata": {},
   "outputs": [],
   "source": [
    "#READING IN RESULT FILES\n",
    "civil_male=pd.read_csv('genderized_outputs/civil_male_large_gendered1.csv')\n",
    "civil_nonmale=pd.read_csv('genderized_outputs/civil_nonmale_large_gendered1.csv')\n",
    "pharma_male=pd.read_csv('genderized_outputs/pharma_male_large_gendered1.csv')\n",
    "pharma_nonmale=pd.read_csv('genderized_outputs/pharma_nonmale_large_gendered1.csv')"
   ]
  },
  {
   "cell_type": "markdown",
   "metadata": {},
   "source": [
    "<h4> Checking to make sure Genderized inputs are being used </h4>"
   ]
  },
  {
   "cell_type": "code",
   "execution_count": 27,
   "metadata": {},
   "outputs": [
    {
     "data": {
      "text/plain": [
       "male      984\n",
       "female     15\n",
       "Name: genderized, dtype: int64"
      ]
     },
     "execution_count": 27,
     "metadata": {},
     "output_type": "execute_result"
    }
   ],
   "source": [
    "civil_male['genderized'].value_counts()"
   ]
  },
  {
   "cell_type": "code",
   "execution_count": 28,
   "metadata": {},
   "outputs": [
    {
     "data": {
      "text/plain": [
       "female    578\n",
       "male      419\n",
       "Name: genderized, dtype: int64"
      ]
     },
     "execution_count": 28,
     "metadata": {},
     "output_type": "execute_result"
    }
   ],
   "source": [
    "civil_nonmale['genderized'].value_counts()"
   ]
  },
  {
   "cell_type": "code",
   "execution_count": 29,
   "metadata": {},
   "outputs": [],
   "source": [
    "#Taking a quick look at outliers, which are names belonging to males according to genderize.io and names belonging to non-males according to male_flag\n",
    "civil_outliers=civil_nonmale[civil_nonmale['genderized']=='male']"
   ]
  },
  {
   "cell_type": "code",
   "execution_count": 30,
   "metadata": {},
   "outputs": [
    {
     "data": {
      "text/html": [
       "<div>\n",
       "<style scoped>\n",
       "    .dataframe tbody tr th:only-of-type {\n",
       "        vertical-align: middle;\n",
       "    }\n",
       "\n",
       "    .dataframe tbody tr th {\n",
       "        vertical-align: top;\n",
       "    }\n",
       "\n",
       "    .dataframe thead th {\n",
       "        text-align: right;\n",
       "    }\n",
       "</style>\n",
       "<table border=\"1\" class=\"dataframe\">\n",
       "  <thead>\n",
       "    <tr style=\"text-align: right;\">\n",
       "      <th></th>\n",
       "      <th>cleaned_name</th>\n",
       "      <th>genderized</th>\n",
       "    </tr>\n",
       "  </thead>\n",
       "  <tbody>\n",
       "    <tr>\n",
       "      <th>1</th>\n",
       "      <td>christian</td>\n",
       "      <td>male</td>\n",
       "    </tr>\n",
       "    <tr>\n",
       "      <th>2</th>\n",
       "      <td>brian</td>\n",
       "      <td>male</td>\n",
       "    </tr>\n",
       "    <tr>\n",
       "      <th>3</th>\n",
       "      <td>henry</td>\n",
       "      <td>male</td>\n",
       "    </tr>\n",
       "    <tr>\n",
       "      <th>6</th>\n",
       "      <td>symond</td>\n",
       "      <td>male</td>\n",
       "    </tr>\n",
       "    <tr>\n",
       "      <th>8</th>\n",
       "      <td>michael</td>\n",
       "      <td>male</td>\n",
       "    </tr>\n",
       "    <tr>\n",
       "      <th>...</th>\n",
       "      <td>...</td>\n",
       "      <td>...</td>\n",
       "    </tr>\n",
       "    <tr>\n",
       "      <th>991</th>\n",
       "      <td>jayant</td>\n",
       "      <td>male</td>\n",
       "    </tr>\n",
       "    <tr>\n",
       "      <th>992</th>\n",
       "      <td>jeffrey</td>\n",
       "      <td>male</td>\n",
       "    </tr>\n",
       "    <tr>\n",
       "      <th>996</th>\n",
       "      <td>michael</td>\n",
       "      <td>male</td>\n",
       "    </tr>\n",
       "    <tr>\n",
       "      <th>997</th>\n",
       "      <td>michael</td>\n",
       "      <td>male</td>\n",
       "    </tr>\n",
       "    <tr>\n",
       "      <th>998</th>\n",
       "      <td>richard</td>\n",
       "      <td>male</td>\n",
       "    </tr>\n",
       "  </tbody>\n",
       "</table>\n",
       "<p>419 rows × 2 columns</p>\n",
       "</div>"
      ],
      "text/plain": [
       "    cleaned_name genderized\n",
       "1      christian       male\n",
       "2          brian       male\n",
       "3          henry       male\n",
       "6         symond       male\n",
       "8        michael       male\n",
       "..           ...        ...\n",
       "991       jayant       male\n",
       "992      jeffrey       male\n",
       "996      michael       male\n",
       "997      michael       male\n",
       "998      richard       male\n",
       "\n",
       "[419 rows x 2 columns]"
      ]
     },
     "execution_count": 30,
     "metadata": {},
     "output_type": "execute_result"
    }
   ],
   "source": [
    "civil_outliers[['cleaned_name','genderized']]"
   ]
  },
  {
   "cell_type": "code",
   "execution_count": 31,
   "metadata": {},
   "outputs": [
    {
     "data": {
      "text/html": [
       "<div>\n",
       "<style scoped>\n",
       "    .dataframe tbody tr th:only-of-type {\n",
       "        vertical-align: middle;\n",
       "    }\n",
       "\n",
       "    .dataframe tbody tr th {\n",
       "        vertical-align: top;\n",
       "    }\n",
       "\n",
       "    .dataframe thead th {\n",
       "        text-align: right;\n",
       "    }\n",
       "</style>\n",
       "<table border=\"1\" class=\"dataframe\">\n",
       "  <thead>\n",
       "    <tr style=\"text-align: right;\">\n",
       "      <th></th>\n",
       "      <th>Unnamed: 0</th>\n",
       "      <th>X</th>\n",
       "      <th>Unnamed..0</th>\n",
       "      <th>location_id</th>\n",
       "      <th>inventor_id</th>\n",
       "      <th>name_first</th>\n",
       "      <th>name_last</th>\n",
       "      <th>male_flag</th>\n",
       "      <th>attribution_status</th>\n",
       "      <th>city</th>\n",
       "      <th>...</th>\n",
       "      <th>cleaned_name</th>\n",
       "      <th>gender_x</th>\n",
       "      <th>code_y</th>\n",
       "      <th>gender_y</th>\n",
       "      <th>wgt</th>\n",
       "      <th>gender.guesser</th>\n",
       "      <th>ipums_gender</th>\n",
       "      <th>ssa_gender</th>\n",
       "      <th>napp_gender</th>\n",
       "      <th>genderized</th>\n",
       "    </tr>\n",
       "  </thead>\n",
       "  <tbody>\n",
       "    <tr>\n",
       "      <th>0</th>\n",
       "      <td>0</td>\n",
       "      <td>167726</td>\n",
       "      <td>213636827</td>\n",
       "      <td>f4ac3ca3-cb8e-11eb-9615-121df0c29c1e</td>\n",
       "      <td>fl:wa_ln:karpellus-1</td>\n",
       "      <td>Walter</td>\n",
       "      <td>Karpellus</td>\n",
       "      <td>1</td>\n",
       "      <td>1</td>\n",
       "      <td>Innsbruck</td>\n",
       "      <td>...</td>\n",
       "      <td>walter</td>\n",
       "      <td>M</td>\n",
       "      <td>AT</td>\n",
       "      <td>M</td>\n",
       "      <td>1.000000</td>\n",
       "      <td>male</td>\n",
       "      <td>male</td>\n",
       "      <td>male</td>\n",
       "      <td>male</td>\n",
       "      <td>male</td>\n",
       "    </tr>\n",
       "    <tr>\n",
       "      <th>1</th>\n",
       "      <td>1</td>\n",
       "      <td>189431</td>\n",
       "      <td>237736045</td>\n",
       "      <td>fae27d84-cb90-11eb-9615-121df0c29c1e</td>\n",
       "      <td>fl:ma_ln:buerger-5</td>\n",
       "      <td>Martin</td>\n",
       "      <td>BUERGER</td>\n",
       "      <td>1</td>\n",
       "      <td>1</td>\n",
       "      <td>Linz</td>\n",
       "      <td>...</td>\n",
       "      <td>martin</td>\n",
       "      <td>M</td>\n",
       "      <td>AT</td>\n",
       "      <td>M</td>\n",
       "      <td>1.000000</td>\n",
       "      <td>male</td>\n",
       "      <td>male</td>\n",
       "      <td>male</td>\n",
       "      <td>male</td>\n",
       "      <td>male</td>\n",
       "    </tr>\n",
       "    <tr>\n",
       "      <th>2</th>\n",
       "      <td>2</td>\n",
       "      <td>62630</td>\n",
       "      <td>85603620</td>\n",
       "      <td>6f17aa21-cb8e-11eb-9615-121df0c29c1e</td>\n",
       "      <td>cqdvq9cvnbjpw5k8y9d9f6wmg</td>\n",
       "      <td>Siegmar</td>\n",
       "      <td>Gekle</td>\n",
       "      <td>1</td>\n",
       "      <td>1</td>\n",
       "      <td>Zeltweg</td>\n",
       "      <td>...</td>\n",
       "      <td>siegmar</td>\n",
       "      <td>M</td>\n",
       "      <td>AT</td>\n",
       "      <td>M</td>\n",
       "      <td>1.000000</td>\n",
       "      <td>male</td>\n",
       "      <td>unknown</td>\n",
       "      <td>unknown</td>\n",
       "      <td>unknown</td>\n",
       "      <td>male</td>\n",
       "    </tr>\n",
       "    <tr>\n",
       "      <th>3</th>\n",
       "      <td>3</td>\n",
       "      <td>42977</td>\n",
       "      <td>59938467</td>\n",
       "      <td>4c02e0a2-cb8f-11eb-9615-121df0c29c1e</td>\n",
       "      <td>fl:fr_ln:kohlweiss-1</td>\n",
       "      <td>Franz</td>\n",
       "      <td>KOHLWEISS</td>\n",
       "      <td>1</td>\n",
       "      <td>1</td>\n",
       "      <td>Hard</td>\n",
       "      <td>...</td>\n",
       "      <td>franz</td>\n",
       "      <td>M</td>\n",
       "      <td>AT</td>\n",
       "      <td>M</td>\n",
       "      <td>1.000000</td>\n",
       "      <td>male</td>\n",
       "      <td>male</td>\n",
       "      <td>male</td>\n",
       "      <td>male</td>\n",
       "      <td>male</td>\n",
       "    </tr>\n",
       "    <tr>\n",
       "      <th>4</th>\n",
       "      <td>4</td>\n",
       "      <td>122565</td>\n",
       "      <td>160868533</td>\n",
       "      <td>d4810edc-cb8e-11eb-9615-121df0c29c1e</td>\n",
       "      <td>jij0ire16ueqaup2bk5r39lrt</td>\n",
       "      <td>Helmut</td>\n",
       "      <td>Habenicht</td>\n",
       "      <td>1</td>\n",
       "      <td>1</td>\n",
       "      <td>Weisskirchen</td>\n",
       "      <td>...</td>\n",
       "      <td>helmut</td>\n",
       "      <td>M</td>\n",
       "      <td>AT</td>\n",
       "      <td>M</td>\n",
       "      <td>1.000000</td>\n",
       "      <td>male</td>\n",
       "      <td>male</td>\n",
       "      <td>male</td>\n",
       "      <td>male</td>\n",
       "      <td>male</td>\n",
       "    </tr>\n",
       "    <tr>\n",
       "      <th>...</th>\n",
       "      <td>...</td>\n",
       "      <td>...</td>\n",
       "      <td>...</td>\n",
       "      <td>...</td>\n",
       "      <td>...</td>\n",
       "      <td>...</td>\n",
       "      <td>...</td>\n",
       "      <td>...</td>\n",
       "      <td>...</td>\n",
       "      <td>...</td>\n",
       "      <td>...</td>\n",
       "      <td>...</td>\n",
       "      <td>...</td>\n",
       "      <td>...</td>\n",
       "      <td>...</td>\n",
       "      <td>...</td>\n",
       "      <td>...</td>\n",
       "      <td>...</td>\n",
       "      <td>...</td>\n",
       "      <td>...</td>\n",
       "      <td>...</td>\n",
       "    </tr>\n",
       "    <tr>\n",
       "      <th>995</th>\n",
       "      <td>995</td>\n",
       "      <td>57650</td>\n",
       "      <td>79085498</td>\n",
       "      <td>65643c2e-cb8e-11eb-9615-121df0c29c1e</td>\n",
       "      <td>fl:pa_ln:hanser-4</td>\n",
       "      <td>Paul Edmund</td>\n",
       "      <td>Hanser</td>\n",
       "      <td>1</td>\n",
       "      <td>1</td>\n",
       "      <td>Tipton</td>\n",
       "      <td>...</td>\n",
       "      <td>paul</td>\n",
       "      <td>M</td>\n",
       "      <td>US</td>\n",
       "      <td>M</td>\n",
       "      <td>0.995771</td>\n",
       "      <td>unknown</td>\n",
       "      <td>male</td>\n",
       "      <td>male</td>\n",
       "      <td>male</td>\n",
       "      <td>male</td>\n",
       "    </tr>\n",
       "    <tr>\n",
       "      <th>996</th>\n",
       "      <td>996</td>\n",
       "      <td>129394</td>\n",
       "      <td>169044719</td>\n",
       "      <td>daf59c4e-cb8e-11eb-9615-121df0c29c1e</td>\n",
       "      <td>fl:ki_ln:mellits-1</td>\n",
       "      <td>Kirk</td>\n",
       "      <td>Mellits</td>\n",
       "      <td>1</td>\n",
       "      <td>1</td>\n",
       "      <td>Braintree</td>\n",
       "      <td>...</td>\n",
       "      <td>kirk</td>\n",
       "      <td>M</td>\n",
       "      <td>US</td>\n",
       "      <td>M</td>\n",
       "      <td>0.997072</td>\n",
       "      <td>male</td>\n",
       "      <td>male</td>\n",
       "      <td>male</td>\n",
       "      <td>unknown</td>\n",
       "      <td>male</td>\n",
       "    </tr>\n",
       "    <tr>\n",
       "      <th>997</th>\n",
       "      <td>997</td>\n",
       "      <td>62325</td>\n",
       "      <td>85199895</td>\n",
       "      <td>6ea68844-cb8e-11eb-9615-121df0c29c1e</td>\n",
       "      <td>bgqucj7c2bb8jfaioy8lwh87d</td>\n",
       "      <td>Alexander</td>\n",
       "      <td>Eydelman</td>\n",
       "      <td>1</td>\n",
       "      <td>1</td>\n",
       "      <td>Littleton</td>\n",
       "      <td>...</td>\n",
       "      <td>alexander</td>\n",
       "      <td>M</td>\n",
       "      <td>US</td>\n",
       "      <td>M</td>\n",
       "      <td>0.992758</td>\n",
       "      <td>male</td>\n",
       "      <td>male</td>\n",
       "      <td>male</td>\n",
       "      <td>male</td>\n",
       "      <td>male</td>\n",
       "    </tr>\n",
       "    <tr>\n",
       "      <th>998</th>\n",
       "      <td>998</td>\n",
       "      <td>205207</td>\n",
       "      <td>255704366</td>\n",
       "      <td>fc3f0f9f-cb8f-11eb-9615-121df0c29c1e</td>\n",
       "      <td>fl:he_ln:stoltz-5</td>\n",
       "      <td>Herman</td>\n",
       "      <td>Stoltz</td>\n",
       "      <td>1</td>\n",
       "      <td>1</td>\n",
       "      <td>Pretoria</td>\n",
       "      <td>...</td>\n",
       "      <td>herman</td>\n",
       "      <td>M</td>\n",
       "      <td>ZA</td>\n",
       "      <td>M</td>\n",
       "      <td>1.000000</td>\n",
       "      <td>male</td>\n",
       "      <td>male</td>\n",
       "      <td>male</td>\n",
       "      <td>male</td>\n",
       "      <td>male</td>\n",
       "    </tr>\n",
       "    <tr>\n",
       "      <th>999</th>\n",
       "      <td>999</td>\n",
       "      <td>205219</td>\n",
       "      <td>255727203</td>\n",
       "      <td>fc3f0f9f-cb8f-11eb-9615-121df0c29c1e</td>\n",
       "      <td>fl:jo_ln:basson-2</td>\n",
       "      <td>John E. B.</td>\n",
       "      <td>Basson</td>\n",
       "      <td>1</td>\n",
       "      <td>1</td>\n",
       "      <td>Pretoria</td>\n",
       "      <td>...</td>\n",
       "      <td>john</td>\n",
       "      <td>M</td>\n",
       "      <td>ZA</td>\n",
       "      <td>M</td>\n",
       "      <td>1.000000</td>\n",
       "      <td>unknown</td>\n",
       "      <td>male</td>\n",
       "      <td>male</td>\n",
       "      <td>male</td>\n",
       "      <td>male</td>\n",
       "    </tr>\n",
       "  </tbody>\n",
       "</table>\n",
       "<p>1000 rows × 27 columns</p>\n",
       "</div>"
      ],
      "text/plain": [
       "     Unnamed: 0       X  Unnamed..0                           location_id  \\\n",
       "0             0  167726   213636827  f4ac3ca3-cb8e-11eb-9615-121df0c29c1e   \n",
       "1             1  189431   237736045  fae27d84-cb90-11eb-9615-121df0c29c1e   \n",
       "2             2   62630    85603620  6f17aa21-cb8e-11eb-9615-121df0c29c1e   \n",
       "3             3   42977    59938467  4c02e0a2-cb8f-11eb-9615-121df0c29c1e   \n",
       "4             4  122565   160868533  d4810edc-cb8e-11eb-9615-121df0c29c1e   \n",
       "..          ...     ...         ...                                   ...   \n",
       "995         995   57650    79085498  65643c2e-cb8e-11eb-9615-121df0c29c1e   \n",
       "996         996  129394   169044719  daf59c4e-cb8e-11eb-9615-121df0c29c1e   \n",
       "997         997   62325    85199895  6ea68844-cb8e-11eb-9615-121df0c29c1e   \n",
       "998         998  205207   255704366  fc3f0f9f-cb8f-11eb-9615-121df0c29c1e   \n",
       "999         999  205219   255727203  fc3f0f9f-cb8f-11eb-9615-121df0c29c1e   \n",
       "\n",
       "                   inventor_id   name_first  name_last  male_flag  \\\n",
       "0         fl:wa_ln:karpellus-1       Walter  Karpellus          1   \n",
       "1           fl:ma_ln:buerger-5       Martin    BUERGER          1   \n",
       "2    cqdvq9cvnbjpw5k8y9d9f6wmg      Siegmar      Gekle          1   \n",
       "3         fl:fr_ln:kohlweiss-1        Franz  KOHLWEISS          1   \n",
       "4    jij0ire16ueqaup2bk5r39lrt       Helmut  Habenicht          1   \n",
       "..                         ...          ...        ...        ...   \n",
       "995          fl:pa_ln:hanser-4  Paul Edmund     Hanser          1   \n",
       "996         fl:ki_ln:mellits-1         Kirk    Mellits          1   \n",
       "997  bgqucj7c2bb8jfaioy8lwh87d    Alexander   Eydelman          1   \n",
       "998          fl:he_ln:stoltz-5       Herman     Stoltz          1   \n",
       "999          fl:jo_ln:basson-2   John E. B.     Basson          1   \n",
       "\n",
       "     attribution_status          city  ... cleaned_name gender_x  code_y  \\\n",
       "0                     1     Innsbruck  ...       walter        M      AT   \n",
       "1                     1          Linz  ...       martin        M      AT   \n",
       "2                     1       Zeltweg  ...      siegmar        M      AT   \n",
       "3                     1          Hard  ...        franz        M      AT   \n",
       "4                     1  Weisskirchen  ...       helmut        M      AT   \n",
       "..                  ...           ...  ...          ...      ...     ...   \n",
       "995                   1        Tipton  ...         paul        M      US   \n",
       "996                   1     Braintree  ...         kirk        M      US   \n",
       "997                   1     Littleton  ...    alexander        M      US   \n",
       "998                   1      Pretoria  ...       herman        M      ZA   \n",
       "999                   1      Pretoria  ...         john        M      ZA   \n",
       "\n",
       "     gender_y       wgt  gender.guesser  ipums_gender ssa_gender napp_gender  \\\n",
       "0           M  1.000000            male          male       male        male   \n",
       "1           M  1.000000            male          male       male        male   \n",
       "2           M  1.000000            male       unknown    unknown     unknown   \n",
       "3           M  1.000000            male          male       male        male   \n",
       "4           M  1.000000            male          male       male        male   \n",
       "..        ...       ...             ...           ...        ...         ...   \n",
       "995         M  0.995771         unknown          male       male        male   \n",
       "996         M  0.997072            male          male       male     unknown   \n",
       "997         M  0.992758            male          male       male        male   \n",
       "998         M  1.000000            male          male       male        male   \n",
       "999         M  1.000000         unknown          male       male        male   \n",
       "\n",
       "    genderized  \n",
       "0         male  \n",
       "1         male  \n",
       "2         male  \n",
       "3         male  \n",
       "4         male  \n",
       "..         ...  \n",
       "995       male  \n",
       "996       male  \n",
       "997       male  \n",
       "998       male  \n",
       "999       male  \n",
       "\n",
       "[1000 rows x 27 columns]"
      ]
     },
     "execution_count": 31,
     "metadata": {},
     "output_type": "execute_result"
    }
   ],
   "source": [
    "civil_male"
   ]
  },
  {
   "cell_type": "code",
   "execution_count": null,
   "metadata": {},
   "outputs": [],
   "source": []
  },
  {
   "cell_type": "code",
   "execution_count": 32,
   "metadata": {},
   "outputs": [
    {
     "data": {
      "text/plain": [
       "male      954\n",
       "female     41\n",
       "Name: genderized, dtype: int64"
      ]
     },
     "execution_count": 32,
     "metadata": {},
     "output_type": "execute_result"
    }
   ],
   "source": [
    "pharma_male['genderized'].value_counts()"
   ]
  },
  {
   "cell_type": "code",
   "execution_count": null,
   "metadata": {},
   "outputs": [],
   "source": []
  },
  {
   "cell_type": "code",
   "execution_count": 33,
   "metadata": {},
   "outputs": [
    {
     "data": {
      "text/plain": [
       "female    879\n",
       "male      115\n",
       "Name: genderized, dtype: int64"
      ]
     },
     "execution_count": 33,
     "metadata": {},
     "output_type": "execute_result"
    }
   ],
   "source": [
    "pharma_nonmale['genderized'].value_counts()"
   ]
  },
  {
   "cell_type": "code",
   "execution_count": null,
   "metadata": {},
   "outputs": [],
   "source": []
  },
  {
   "cell_type": "code",
   "execution_count": 66,
   "metadata": {},
   "outputs": [],
   "source": [
    "#Writing Out FILES\n",
    "#civil_male.to_csv('genderized_outputs/civil_male_large_gendered1.csv')\n",
    "#civil_nonmale.to_csv('genderized_outputs/civil_nonmale_large_gendered1.csv')\n",
    "#pharma_male.to_csv('genderized_outputs/pharma_male_large_gendered1.csv')\n",
    "#pharma_nonmale.to_csv('genderized_outputs/pharma_nonmale_large_gendered1.csv')"
   ]
  },
  {
   "cell_type": "code",
   "execution_count": 34,
   "metadata": {},
   "outputs": [],
   "source": [
    "pharma_outliers=pharma_nonmale[pharma_nonmale['genderized']=='male']"
   ]
  },
  {
   "cell_type": "code",
   "execution_count": 35,
   "metadata": {},
   "outputs": [
    {
     "data": {
      "text/html": [
       "<div>\n",
       "<style scoped>\n",
       "    .dataframe tbody tr th:only-of-type {\n",
       "        vertical-align: middle;\n",
       "    }\n",
       "\n",
       "    .dataframe tbody tr th {\n",
       "        vertical-align: top;\n",
       "    }\n",
       "\n",
       "    .dataframe thead th {\n",
       "        text-align: right;\n",
       "    }\n",
       "</style>\n",
       "<table border=\"1\" class=\"dataframe\">\n",
       "  <thead>\n",
       "    <tr style=\"text-align: right;\">\n",
       "      <th></th>\n",
       "      <th>name_first</th>\n",
       "      <th>name_last</th>\n",
       "      <th>cleaned_name</th>\n",
       "      <th>code_y</th>\n",
       "      <th>genderized</th>\n",
       "    </tr>\n",
       "  </thead>\n",
       "  <tbody>\n",
       "    <tr>\n",
       "      <th>21</th>\n",
       "      <td>Marnik</td>\n",
       "      <td>Vuylsteke</td>\n",
       "      <td>marnik</td>\n",
       "      <td>BE</td>\n",
       "      <td>male</td>\n",
       "    </tr>\n",
       "    <tr>\n",
       "      <th>45</th>\n",
       "      <td>Cory</td>\n",
       "      <td>Campbell</td>\n",
       "      <td>cory</td>\n",
       "      <td>CA</td>\n",
       "      <td>male</td>\n",
       "    </tr>\n",
       "    <tr>\n",
       "      <th>49</th>\n",
       "      <td>Yu Tian</td>\n",
       "      <td>Wang</td>\n",
       "      <td>yu</td>\n",
       "      <td>CA</td>\n",
       "      <td>male</td>\n",
       "    </tr>\n",
       "    <tr>\n",
       "      <th>64</th>\n",
       "      <td>Slava</td>\n",
       "      <td>Saizev</td>\n",
       "      <td>slava</td>\n",
       "      <td>CH</td>\n",
       "      <td>male</td>\n",
       "    </tr>\n",
       "    <tr>\n",
       "      <th>74</th>\n",
       "      <td>Conrad H.</td>\n",
       "      <td>Schneider</td>\n",
       "      <td>conrad</td>\n",
       "      <td>CH</td>\n",
       "      <td>male</td>\n",
       "    </tr>\n",
       "    <tr>\n",
       "      <th>...</th>\n",
       "      <td>...</td>\n",
       "      <td>...</td>\n",
       "      <td>...</td>\n",
       "      <td>...</td>\n",
       "      <td>...</td>\n",
       "    </tr>\n",
       "    <tr>\n",
       "      <th>947</th>\n",
       "      <td>Aykut</td>\n",
       "      <td>Uren</td>\n",
       "      <td>aykut</td>\n",
       "      <td>US</td>\n",
       "      <td>male</td>\n",
       "    </tr>\n",
       "    <tr>\n",
       "      <th>960</th>\n",
       "      <td>Casey</td>\n",
       "      <td>Kopczynski</td>\n",
       "      <td>casey</td>\n",
       "      <td>US</td>\n",
       "      <td>male</td>\n",
       "    </tr>\n",
       "    <tr>\n",
       "      <th>972</th>\n",
       "      <td>Gurpreet S.</td>\n",
       "      <td>Ahluwalia</td>\n",
       "      <td>gurpreet</td>\n",
       "      <td>US</td>\n",
       "      <td>male</td>\n",
       "    </tr>\n",
       "    <tr>\n",
       "      <th>986</th>\n",
       "      <td>Jan W. F.</td>\n",
       "      <td>Wasley</td>\n",
       "      <td>jan</td>\n",
       "      <td>US</td>\n",
       "      <td>male</td>\n",
       "    </tr>\n",
       "    <tr>\n",
       "      <th>990</th>\n",
       "      <td>Young Shin</td>\n",
       "      <td>Cho</td>\n",
       "      <td>young</td>\n",
       "      <td>US</td>\n",
       "      <td>male</td>\n",
       "    </tr>\n",
       "  </tbody>\n",
       "</table>\n",
       "<p>115 rows × 5 columns</p>\n",
       "</div>"
      ],
      "text/plain": [
       "      name_first   name_last cleaned_name code_y genderized\n",
       "21        Marnik   Vuylsteke       marnik     BE       male\n",
       "45          Cory    Campbell         cory     CA       male\n",
       "49       Yu Tian        Wang           yu     CA       male\n",
       "64         Slava      Saizev        slava     CH       male\n",
       "74     Conrad H.   Schneider       conrad     CH       male\n",
       "..           ...         ...          ...    ...        ...\n",
       "947        Aykut        Uren        aykut     US       male\n",
       "960        Casey  Kopczynski        casey     US       male\n",
       "972  Gurpreet S.   Ahluwalia     gurpreet     US       male\n",
       "986    Jan W. F.      Wasley          jan     US       male\n",
       "990   Young Shin         Cho        young     US       male\n",
       "\n",
       "[115 rows x 5 columns]"
      ]
     },
     "execution_count": 35,
     "metadata": {},
     "output_type": "execute_result"
    }
   ],
   "source": [
    "pharma_outliers[['name_first','name_last','cleaned_name','code_y','genderized']]"
   ]
  },
  {
   "cell_type": "code",
   "execution_count": 37,
   "metadata": {},
   "outputs": [],
   "source": [
    "#Building an aggregated data frame with all inventors, civil, pharma, male and nonmale"
   ]
  },
  {
   "cell_type": "code",
   "execution_count": 38,
   "metadata": {},
   "outputs": [],
   "source": [
    "aggregate=pd.concat([civil_male,civil_nonmale,pharma_male,pharma_nonmale])"
   ]
  },
  {
   "cell_type": "code",
   "execution_count": 39,
   "metadata": {},
   "outputs": [
    {
     "data": {
      "text/plain": [
       "4000"
      ]
     },
     "execution_count": 39,
     "metadata": {},
     "output_type": "execute_result"
    }
   ],
   "source": [
    "len(aggregate)"
   ]
  },
  {
   "cell_type": "code",
   "execution_count": 40,
   "metadata": {},
   "outputs": [
    {
     "data": {
      "text/html": [
       "<div>\n",
       "<style scoped>\n",
       "    .dataframe tbody tr th:only-of-type {\n",
       "        vertical-align: middle;\n",
       "    }\n",
       "\n",
       "    .dataframe tbody tr th {\n",
       "        vertical-align: top;\n",
       "    }\n",
       "\n",
       "    .dataframe thead th {\n",
       "        text-align: right;\n",
       "    }\n",
       "</style>\n",
       "<table border=\"1\" class=\"dataframe\">\n",
       "  <thead>\n",
       "    <tr style=\"text-align: right;\">\n",
       "      <th></th>\n",
       "      <th>Unnamed: 0</th>\n",
       "      <th>X</th>\n",
       "      <th>Unnamed..0</th>\n",
       "      <th>location_id</th>\n",
       "      <th>inventor_id</th>\n",
       "      <th>name_first</th>\n",
       "      <th>name_last</th>\n",
       "      <th>male_flag</th>\n",
       "      <th>attribution_status</th>\n",
       "      <th>city</th>\n",
       "      <th>...</th>\n",
       "      <th>cleaned_name</th>\n",
       "      <th>gender_x</th>\n",
       "      <th>code_y</th>\n",
       "      <th>gender_y</th>\n",
       "      <th>wgt</th>\n",
       "      <th>gender.guesser</th>\n",
       "      <th>ipums_gender</th>\n",
       "      <th>ssa_gender</th>\n",
       "      <th>napp_gender</th>\n",
       "      <th>genderized</th>\n",
       "    </tr>\n",
       "  </thead>\n",
       "  <tbody>\n",
       "    <tr>\n",
       "      <th>0</th>\n",
       "      <td>0</td>\n",
       "      <td>167726</td>\n",
       "      <td>213636827</td>\n",
       "      <td>f4ac3ca3-cb8e-11eb-9615-121df0c29c1e</td>\n",
       "      <td>fl:wa_ln:karpellus-1</td>\n",
       "      <td>Walter</td>\n",
       "      <td>Karpellus</td>\n",
       "      <td>1.0</td>\n",
       "      <td>1</td>\n",
       "      <td>Innsbruck</td>\n",
       "      <td>...</td>\n",
       "      <td>walter</td>\n",
       "      <td>M</td>\n",
       "      <td>AT</td>\n",
       "      <td>M</td>\n",
       "      <td>1.0</td>\n",
       "      <td>male</td>\n",
       "      <td>male</td>\n",
       "      <td>male</td>\n",
       "      <td>male</td>\n",
       "      <td>male</td>\n",
       "    </tr>\n",
       "    <tr>\n",
       "      <th>1</th>\n",
       "      <td>1</td>\n",
       "      <td>189431</td>\n",
       "      <td>237736045</td>\n",
       "      <td>fae27d84-cb90-11eb-9615-121df0c29c1e</td>\n",
       "      <td>fl:ma_ln:buerger-5</td>\n",
       "      <td>Martin</td>\n",
       "      <td>BUERGER</td>\n",
       "      <td>1.0</td>\n",
       "      <td>1</td>\n",
       "      <td>Linz</td>\n",
       "      <td>...</td>\n",
       "      <td>martin</td>\n",
       "      <td>M</td>\n",
       "      <td>AT</td>\n",
       "      <td>M</td>\n",
       "      <td>1.0</td>\n",
       "      <td>male</td>\n",
       "      <td>male</td>\n",
       "      <td>male</td>\n",
       "      <td>male</td>\n",
       "      <td>male</td>\n",
       "    </tr>\n",
       "    <tr>\n",
       "      <th>2</th>\n",
       "      <td>2</td>\n",
       "      <td>62630</td>\n",
       "      <td>85603620</td>\n",
       "      <td>6f17aa21-cb8e-11eb-9615-121df0c29c1e</td>\n",
       "      <td>cqdvq9cvnbjpw5k8y9d9f6wmg</td>\n",
       "      <td>Siegmar</td>\n",
       "      <td>Gekle</td>\n",
       "      <td>1.0</td>\n",
       "      <td>1</td>\n",
       "      <td>Zeltweg</td>\n",
       "      <td>...</td>\n",
       "      <td>siegmar</td>\n",
       "      <td>M</td>\n",
       "      <td>AT</td>\n",
       "      <td>M</td>\n",
       "      <td>1.0</td>\n",
       "      <td>male</td>\n",
       "      <td>unknown</td>\n",
       "      <td>unknown</td>\n",
       "      <td>unknown</td>\n",
       "      <td>male</td>\n",
       "    </tr>\n",
       "    <tr>\n",
       "      <th>3</th>\n",
       "      <td>3</td>\n",
       "      <td>42977</td>\n",
       "      <td>59938467</td>\n",
       "      <td>4c02e0a2-cb8f-11eb-9615-121df0c29c1e</td>\n",
       "      <td>fl:fr_ln:kohlweiss-1</td>\n",
       "      <td>Franz</td>\n",
       "      <td>KOHLWEISS</td>\n",
       "      <td>1.0</td>\n",
       "      <td>1</td>\n",
       "      <td>Hard</td>\n",
       "      <td>...</td>\n",
       "      <td>franz</td>\n",
       "      <td>M</td>\n",
       "      <td>AT</td>\n",
       "      <td>M</td>\n",
       "      <td>1.0</td>\n",
       "      <td>male</td>\n",
       "      <td>male</td>\n",
       "      <td>male</td>\n",
       "      <td>male</td>\n",
       "      <td>male</td>\n",
       "    </tr>\n",
       "    <tr>\n",
       "      <th>4</th>\n",
       "      <td>4</td>\n",
       "      <td>122565</td>\n",
       "      <td>160868533</td>\n",
       "      <td>d4810edc-cb8e-11eb-9615-121df0c29c1e</td>\n",
       "      <td>jij0ire16ueqaup2bk5r39lrt</td>\n",
       "      <td>Helmut</td>\n",
       "      <td>Habenicht</td>\n",
       "      <td>1.0</td>\n",
       "      <td>1</td>\n",
       "      <td>Weisskirchen</td>\n",
       "      <td>...</td>\n",
       "      <td>helmut</td>\n",
       "      <td>M</td>\n",
       "      <td>AT</td>\n",
       "      <td>M</td>\n",
       "      <td>1.0</td>\n",
       "      <td>male</td>\n",
       "      <td>male</td>\n",
       "      <td>male</td>\n",
       "      <td>male</td>\n",
       "      <td>male</td>\n",
       "    </tr>\n",
       "  </tbody>\n",
       "</table>\n",
       "<p>5 rows × 27 columns</p>\n",
       "</div>"
      ],
      "text/plain": [
       "   Unnamed: 0       X  Unnamed..0                           location_id  \\\n",
       "0           0  167726   213636827  f4ac3ca3-cb8e-11eb-9615-121df0c29c1e   \n",
       "1           1  189431   237736045  fae27d84-cb90-11eb-9615-121df0c29c1e   \n",
       "2           2   62630    85603620  6f17aa21-cb8e-11eb-9615-121df0c29c1e   \n",
       "3           3   42977    59938467  4c02e0a2-cb8f-11eb-9615-121df0c29c1e   \n",
       "4           4  122565   160868533  d4810edc-cb8e-11eb-9615-121df0c29c1e   \n",
       "\n",
       "                 inventor_id name_first  name_last  male_flag  \\\n",
       "0       fl:wa_ln:karpellus-1     Walter  Karpellus        1.0   \n",
       "1         fl:ma_ln:buerger-5     Martin    BUERGER        1.0   \n",
       "2  cqdvq9cvnbjpw5k8y9d9f6wmg    Siegmar      Gekle        1.0   \n",
       "3       fl:fr_ln:kohlweiss-1      Franz  KOHLWEISS        1.0   \n",
       "4  jij0ire16ueqaup2bk5r39lrt     Helmut  Habenicht        1.0   \n",
       "\n",
       "   attribution_status          city  ... cleaned_name gender_x  code_y  \\\n",
       "0                   1     Innsbruck  ...       walter        M      AT   \n",
       "1                   1          Linz  ...       martin        M      AT   \n",
       "2                   1       Zeltweg  ...      siegmar        M      AT   \n",
       "3                   1          Hard  ...        franz        M      AT   \n",
       "4                   1  Weisskirchen  ...       helmut        M      AT   \n",
       "\n",
       "   gender_y  wgt  gender.guesser  ipums_gender ssa_gender napp_gender  \\\n",
       "0         M  1.0            male          male       male        male   \n",
       "1         M  1.0            male          male       male        male   \n",
       "2         M  1.0            male       unknown    unknown     unknown   \n",
       "3         M  1.0            male          male       male        male   \n",
       "4         M  1.0            male          male       male        male   \n",
       "\n",
       "  genderized  \n",
       "0       male  \n",
       "1       male  \n",
       "2       male  \n",
       "3       male  \n",
       "4       male  \n",
       "\n",
       "[5 rows x 27 columns]"
      ]
     },
     "execution_count": 40,
     "metadata": {},
     "output_type": "execute_result"
    }
   ],
   "source": [
    "aggregate.head()"
   ]
  },
  {
   "cell_type": "markdown",
   "metadata": {},
   "source": [
    "<h2>Standardising All Gender Methods.</h2>\n",
    "<h4>Since the male flag has only 2 valid values (0 and 1) and some NaN values for unknown, and all other methods also have different values for gender, we standardize it as \n",
    "    Male =1\n",
    "    NonMale=0\n",
    "    Unknown=2\n",
    "    "
   ]
  },
  {
   "cell_type": "code",
   "execution_count": 41,
   "metadata": {},
   "outputs": [],
   "source": [
    "#len(aggregate[(aggregate['male_flag']==1) & (aggregate['gender_y']=='1')])"
   ]
  },
  {
   "cell_type": "code",
   "execution_count": 42,
   "metadata": {},
   "outputs": [],
   "source": [
    "#FIll NAN with 2 so that we can compare unkowns to uknowns."
   ]
  },
  {
   "cell_type": "code",
   "execution_count": 43,
   "metadata": {},
   "outputs": [],
   "source": [
    "aggregate['male_flag'].fillna(2,inplace=True)"
   ]
  },
  {
   "cell_type": "code",
   "execution_count": 44,
   "metadata": {},
   "outputs": [],
   "source": [
    "aggregate['genderized'].fillna(2,inplace=True)"
   ]
  },
  {
   "cell_type": "code",
   "execution_count": 45,
   "metadata": {},
   "outputs": [],
   "source": [
    "aggregate['gender_x'].fillna(2,inplace=True)"
   ]
  },
  {
   "cell_type": "code",
   "execution_count": 46,
   "metadata": {},
   "outputs": [],
   "source": [
    "GENDERIZE_outliers=aggregate[aggregate['genderized']==2]"
   ]
  },
  {
   "cell_type": "code",
   "execution_count": 47,
   "metadata": {},
   "outputs": [
    {
     "data": {
      "text/plain": [
       "sabbana        1\n",
       "a.             1\n",
       "sangmeshwer    1\n",
       "yue-yun        1\n",
       "hong-da        1\n",
       "jing-shan      1\n",
       "claes-inge     1\n",
       "zhi-zhong      1\n",
       "yu-qing        1\n",
       "vedala         1\n",
       "Name: cleaned_name, dtype: int64"
      ]
     },
     "execution_count": 47,
     "metadata": {},
     "output_type": "execute_result"
    }
   ],
   "source": [
    "GENDERIZE_outliers['cleaned_name'].value_counts().head(10)"
   ]
  },
  {
   "cell_type": "code",
   "execution_count": 48,
   "metadata": {},
   "outputs": [],
   "source": [
    "GENDERIZE_mismatch=aggregate[aggregate['genderized']!=aggregate['male_flag']]"
   ]
  },
  {
   "cell_type": "code",
   "execution_count": 49,
   "metadata": {},
   "outputs": [
    {
     "data": {
      "text/plain": [
       "michael    60\n",
       "robert     52\n",
       "john       46\n",
       "james      43\n",
       "david      39\n",
       "paul       33\n",
       "maria      29\n",
       "william    28\n",
       "mark       27\n",
       "richard    27\n",
       "Name: cleaned_name, dtype: int64"
      ]
     },
     "execution_count": 49,
     "metadata": {},
     "output_type": "execute_result"
    }
   ],
   "source": [
    "GENDERIZE_mismatch['cleaned_name'].value_counts().head(10)"
   ]
  },
  {
   "cell_type": "code",
   "execution_count": null,
   "metadata": {},
   "outputs": [],
   "source": [
    "aggregate['gender_y'].replace(['F','M','?'],[0,1,2],inplace=True)"
   ]
  },
  {
   "cell_type": "code",
   "execution_count": 55,
   "metadata": {},
   "outputs": [],
   "source": [
    "wgnd_outliers2=aggregate[aggregate['gender_y']==2]"
   ]
  },
  {
   "cell_type": "code",
   "execution_count": 56,
   "metadata": {},
   "outputs": [],
   "source": [
    "wgnd_mismatch=aggregate[aggregate['gender_y']!=aggregate['male_flag']]"
   ]
  },
  {
   "cell_type": "code",
   "execution_count": 58,
   "metadata": {},
   "outputs": [
    {
     "data": {
      "text/plain": [
       "young    10\n",
       "hyun      4\n",
       "ju        3\n",
       "sung      3\n",
       "yun       2\n",
       "in        2\n",
       "yeong     2\n",
       "you       2\n",
       "ji        2\n",
       "sang      2\n",
       "Name: cleaned_name, dtype: int64"
      ]
     },
     "execution_count": 58,
     "metadata": {},
     "output_type": "execute_result"
    }
   ],
   "source": [
    "wgnd_outliers2['cleaned_name'].value_counts().head(10)"
   ]
  },
  {
   "cell_type": "code",
   "execution_count": 59,
   "metadata": {},
   "outputs": [],
   "source": [
    "aggregate_male=aggregate[aggregate['male_flag']==1]"
   ]
  },
  {
   "cell_type": "code",
   "execution_count": 60,
   "metadata": {},
   "outputs": [],
   "source": [
    "aggregate['genderized'].replace(['female','male'],[0,1],inplace=True)"
   ]
  },
  {
   "cell_type": "code",
   "execution_count": 61,
   "metadata": {},
   "outputs": [],
   "source": [
    "aggregate['gender_x'].replace(['F','M'],[0,1],inplace=True)"
   ]
  },
  {
   "cell_type": "code",
   "execution_count": null,
   "metadata": {},
   "outputs": [],
   "source": [
    "#In case of 'mostly_male' and 'mostly_female' we just substitute with male and female."
   ]
  },
  {
   "cell_type": "code",
   "execution_count": 64,
   "metadata": {},
   "outputs": [],
   "source": [
    "aggregate['gender.guesser'].replace(['female','mostly_female','male','mostly_male','andy','unknown'],[0,0,1,1,2,2],inplace=True)"
   ]
  },
  {
   "cell_type": "code",
   "execution_count": 65,
   "metadata": {},
   "outputs": [],
   "source": [
    "#In case of either, we assume androgyny or unknown."
   ]
  },
  {
   "cell_type": "code",
   "execution_count": 66,
   "metadata": {},
   "outputs": [],
   "source": [
    "aggregate['ipums_gender'].replace(['female','male','either','unknown'],[0,1,2,2],inplace=True)"
   ]
  },
  {
   "cell_type": "code",
   "execution_count": 67,
   "metadata": {},
   "outputs": [],
   "source": [
    "aggregate['ssa_gender'].replace(['female','male','unknown'],[0,1,2],inplace=True)"
   ]
  },
  {
   "cell_type": "code",
   "execution_count": 68,
   "metadata": {},
   "outputs": [],
   "source": [
    "aggregate['napp_gender'].replace(['female','male','either','unknown'],[0,1,2,2],inplace=True)"
   ]
  },
  {
   "cell_type": "code",
   "execution_count": 69,
   "metadata": {},
   "outputs": [
    {
     "data": {
      "text/plain": [
       "1    2472\n",
       "0    1513\n",
       "2      15\n",
       "Name: genderized, dtype: int64"
      ]
     },
     "execution_count": 69,
     "metadata": {},
     "output_type": "execute_result"
    }
   ],
   "source": [
    "aggregate['genderized'].value_counts()"
   ]
  },
  {
   "cell_type": "code",
   "execution_count": 26,
   "metadata": {},
   "outputs": [
    {
     "data": {
      "text/plain": [
       "M    2314\n",
       "F    1518\n",
       "2     168\n",
       "Name: gender_x, dtype: int64"
      ]
     },
     "execution_count": 26,
     "metadata": {},
     "output_type": "execute_result"
    }
   ],
   "source": [
    "aggregate['gender_x'].value_counts()"
   ]
  },
  {
   "cell_type": "code",
   "execution_count": 26,
   "metadata": {},
   "outputs": [
    {
     "data": {
      "text/plain": [
       "1    2398\n",
       "0    1505\n",
       "2      97\n",
       "Name: gender_y, dtype: int64"
      ]
     },
     "execution_count": 26,
     "metadata": {},
     "output_type": "execute_result"
    }
   ],
   "source": [
    "aggregate['gender_y'].value_counts()"
   ]
  },
  {
   "cell_type": "code",
   "execution_count": 27,
   "metadata": {},
   "outputs": [
    {
     "data": {
      "text/plain": [
       "2    2026\n",
       "1    1160\n",
       "0     814\n",
       "Name: gender.guesser, dtype: int64"
      ]
     },
     "execution_count": 27,
     "metadata": {},
     "output_type": "execute_result"
    }
   ],
   "source": [
    "aggregate['gender.guesser'].value_counts()"
   ]
  },
  {
   "cell_type": "code",
   "execution_count": 26,
   "metadata": {},
   "outputs": [
    {
     "data": {
      "text/plain": [
       "1    2253\n",
       "0    1204\n",
       "2     543\n",
       "Name: ipums_gender, dtype: int64"
      ]
     },
     "execution_count": 26,
     "metadata": {},
     "output_type": "execute_result"
    }
   ],
   "source": [
    "aggregate['ipums_gender'].value_counts()"
   ]
  },
  {
   "cell_type": "code",
   "execution_count": 27,
   "metadata": {},
   "outputs": [
    {
     "data": {
      "text/plain": [
       "1    2116\n",
       "0    1458\n",
       "2     426\n",
       "Name: ssa_gender, dtype: int64"
      ]
     },
     "execution_count": 27,
     "metadata": {},
     "output_type": "execute_result"
    }
   ],
   "source": [
    "aggregate['ssa_gender'].value_counts()"
   ]
  },
  {
   "cell_type": "code",
   "execution_count": 28,
   "metadata": {},
   "outputs": [
    {
     "data": {
      "text/plain": [
       "1    1744\n",
       "2    1281\n",
       "0     975\n",
       "Name: napp_gender, dtype: int64"
      ]
     },
     "execution_count": 28,
     "metadata": {},
     "output_type": "execute_result"
    }
   ],
   "source": [
    "aggregate['napp_gender'].value_counts()"
   ]
  },
  {
   "cell_type": "code",
   "execution_count": 29,
   "metadata": {},
   "outputs": [
    {
     "data": {
      "text/plain": [
       "1.0    2000\n",
       "0.0    1811\n",
       "2.0     189\n",
       "Name: male_flag, dtype: int64"
      ]
     },
     "execution_count": 29,
     "metadata": {},
     "output_type": "execute_result"
    }
   ],
   "source": [
    "aggregate['male_flag'].value_counts()"
   ]
  },
  {
   "cell_type": "code",
   "execution_count": 21,
   "metadata": {},
   "outputs": [],
   "source": []
  },
  {
   "cell_type": "markdown",
   "metadata": {},
   "source": [
    "<h2>Importing Precision, Recall, Accuracy and F1 metrics from sklearn </h2>"
   ]
  },
  {
   "cell_type": "code",
   "execution_count": 73,
   "metadata": {},
   "outputs": [],
   "source": [
    "from sklearn.metrics import precision_score\n",
    "#precision_score(aggregate_male['male_flag'],aggregate_male['gender_y'])"
   ]
  },
  {
   "cell_type": "code",
   "execution_count": 74,
   "metadata": {},
   "outputs": [],
   "source": [
    "from sklearn.metrics import accuracy_score\n",
    "accuracy_df=pd.DataFrame(columns=['measure','gender_x','gender_y','gender.guesser','ipums_gender','ssa_gender','napp_gender','genderized'])"
   ]
  },
  {
   "cell_type": "code",
   "execution_count": 75,
   "metadata": {},
   "outputs": [],
   "source": [
    "from sklearn.metrics import recall_score\n",
    "#recall_score(aggregate_male['male_flag'],aggregate_male['gender_x'])"
   ]
  },
  {
   "cell_type": "code",
   "execution_count": 76,
   "metadata": {},
   "outputs": [],
   "source": [
    "from sklearn.metrics import f1_score\n",
    "#f1_score(aggregate_male['male_flag'],aggregate_male['gender_x'])"
   ]
  },
  {
   "cell_type": "code",
   "execution_count": null,
   "metadata": {},
   "outputs": [],
   "source": []
  },
  {
   "cell_type": "code",
   "execution_count": 77,
   "metadata": {},
   "outputs": [],
   "source": [
    "accuracy_score_list=['accuracy_score']\n",
    "accuracy_score_list.append(accuracy_score(list(aggregate['male_flag']), list(aggregate['gender_x'])))"
   ]
  },
  {
   "cell_type": "code",
   "execution_count": 78,
   "metadata": {},
   "outputs": [],
   "source": [
    "accuracy_score_list.append(accuracy_score(list(aggregate['male_flag']), list(aggregate['gender_y'])))"
   ]
  },
  {
   "cell_type": "code",
   "execution_count": 79,
   "metadata": {},
   "outputs": [],
   "source": [
    "accuracy_score_list.append(accuracy_score(list(aggregate['male_flag']), list(aggregate['gender.guesser'])))"
   ]
  },
  {
   "cell_type": "code",
   "execution_count": 80,
   "metadata": {},
   "outputs": [],
   "source": [
    "accuracy_score_list.append(accuracy_score(list(aggregate['male_flag']), list(aggregate['ipums_gender'])))"
   ]
  },
  {
   "cell_type": "code",
   "execution_count": 81,
   "metadata": {},
   "outputs": [],
   "source": [
    "accuracy_score_list.append(accuracy_score(list(aggregate['male_flag']), list(aggregate['ssa_gender'])))"
   ]
  },
  {
   "cell_type": "code",
   "execution_count": 82,
   "metadata": {},
   "outputs": [],
   "source": [
    "accuracy_score_list.append(accuracy_score(list(aggregate['male_flag']), list(aggregate['napp_gender'])))"
   ]
  },
  {
   "cell_type": "code",
   "execution_count": 83,
   "metadata": {},
   "outputs": [],
   "source": [
    "accuracy_score_list.append(accuracy_score(list(aggregate['male_flag']), list(aggregate['genderized'])))"
   ]
  },
  {
   "cell_type": "code",
   "execution_count": 84,
   "metadata": {},
   "outputs": [
    {
     "data": {
      "text/plain": [
       "['accuracy_score', 0.82975, 0.84325, 0.4695, 0.7135, 0.7835, 0.5945, 0.84025]"
      ]
     },
     "execution_count": 84,
     "metadata": {},
     "output_type": "execute_result"
    }
   ],
   "source": [
    "accuracy_score_list"
   ]
  },
  {
   "cell_type": "code",
   "execution_count": 85,
   "metadata": {},
   "outputs": [],
   "source": [
    "from sklearn.metrics import precision_score\n",
    "precision_score_list=['precision_score']\n",
    "precision_score_list.append(precision_score(aggregate['male_flag'],aggregate['gender_x'],average=None))\n",
    "precision_score_list.append(precision_score(aggregate['male_flag'],aggregate['gender_y'],average=None))\n",
    "precision_score_list.append(precision_score(aggregate['male_flag'],aggregate['gender.guesser'],average=None))\n",
    "precision_score_list.append(precision_score(aggregate['male_flag'],aggregate['ipums_gender'],average=None))\n",
    "precision_score_list.append(precision_score(aggregate['male_flag'],aggregate['ssa_gender'],average=None))\n",
    "precision_score_list.append(precision_score(aggregate['male_flag'],aggregate['napp_gender'],average=None))\n",
    "precision_score_list.append(precision_score(aggregate['male_flag'],aggregate['genderized'],average=None))"
   ]
  },
  {
   "cell_type": "code",
   "execution_count": 86,
   "metadata": {},
   "outputs": [
    {
     "data": {
      "text/plain": [
       "['precision_score',\n",
       " array([0.91501976, 0.80121003, 0.45238095]),\n",
       " array([0.94684385, 0.80233528, 0.24742268]),\n",
       " array([0.94717445, 0.83362069, 0.06910168]),\n",
       " array([0.92109635, 0.74345317, 0.12891344]),\n",
       " array([0.92935528, 0.80671078, 0.16901408]),\n",
       " array([0.92512821, 0.78038991, 0.08977361]),\n",
       " array([0.93721084, 0.78398058, 0.33333333])]"
      ]
     },
     "execution_count": 86,
     "metadata": {},
     "output_type": "execute_result"
    }
   ],
   "source": [
    "precision_score_list"
   ]
  },
  {
   "cell_type": "code",
   "execution_count": 87,
   "metadata": {},
   "outputs": [],
   "source": [
    "from sklearn.metrics import recall_score\n",
    "recall_score_list=['recall_score']\n",
    "recall_score_list.append(recall_score(aggregate['male_flag'],aggregate['gender_x'],average=None))\n",
    "recall_score_list.append(recall_score(aggregate['male_flag'],aggregate['gender_y'],average=None))\n",
    "recall_score_list.append(recall_score(aggregate['male_flag'],aggregate['gender.guesser'],average=None))\n",
    "recall_score_list.append(recall_score(aggregate['male_flag'],aggregate['ipums_gender'],average=None))\n",
    "recall_score_list.append(recall_score(aggregate['male_flag'],aggregate['ssa_gender'],average=None))\n",
    "recall_score_list.append(recall_score(aggregate['male_flag'],aggregate['napp_gender'],average=None))\n",
    "recall_score_list.append(recall_score(aggregate['male_flag'],aggregate['genderized'],average=None))"
   ]
  },
  {
   "cell_type": "code",
   "execution_count": 88,
   "metadata": {},
   "outputs": [
    {
     "data": {
      "text/plain": [
       "['recall_score',\n",
       " array([0.76697957, 0.927     , 0.4021164 ]),\n",
       " array([0.78685809, 0.962     , 0.12698413]),\n",
       " array([0.42573164, 0.4835    , 0.74074074]),\n",
       " array([0.61236886, 0.8375    , 0.37037037]),\n",
       " array([0.74820541, 0.8535    , 0.38095238]),\n",
       " array([0.49806737, 0.6805    , 0.60846561]),\n",
       " array([0.78299282, 0.969     , 0.02645503])]"
      ]
     },
     "execution_count": 88,
     "metadata": {},
     "output_type": "execute_result"
    }
   ],
   "source": [
    "recall_score_list"
   ]
  },
  {
   "cell_type": "code",
   "execution_count": 89,
   "metadata": {},
   "outputs": [],
   "source": [
    "from sklearn.metrics import f1_score\n",
    "f1_score_list=['f1_score']\n",
    "f1_score_list.append(f1_score(aggregate['male_flag'],aggregate['gender_x'],average=None))\n",
    "f1_score_list.append(f1_score(aggregate['male_flag'],aggregate['gender_y'],average=None))\n",
    "f1_score_list.append(f1_score(aggregate['male_flag'],aggregate['gender.guesser'],average=None))\n",
    "f1_score_list.append(f1_score(aggregate['male_flag'],aggregate['ipums_gender'],average=None))\n",
    "f1_score_list.append(f1_score(aggregate['male_flag'],aggregate['ssa_gender'],average=None))\n",
    "f1_score_list.append(f1_score(aggregate['male_flag'],aggregate['napp_gender'],average=None))\n",
    "f1_score_list.append(f1_score(aggregate['male_flag'],aggregate['genderized'],average=None))"
   ]
  },
  {
   "cell_type": "code",
   "execution_count": 90,
   "metadata": {},
   "outputs": [
    {
     "data": {
      "text/plain": [
       "['f1_score',\n",
       " array([0.83448483, 0.85952712, 0.42577031]),\n",
       " array([0.85946924, 0.87494316, 0.16783217]),\n",
       " array([0.58742857, 0.61202532, 0.12641084]),\n",
       " array([0.73565506, 0.78767929, 0.19125683]),\n",
       " array([0.82899969, 0.82944606, 0.23414634]),\n",
       " array([0.64752333, 0.72702991, 0.15646259]),\n",
       " array([0.85318893, 0.8667263 , 0.04901961])]"
      ]
     },
     "execution_count": 90,
     "metadata": {},
     "output_type": "execute_result"
    }
   ],
   "source": [
    "f1_score_list"
   ]
  },
  {
   "cell_type": "markdown",
   "metadata": {},
   "source": [
    "<h3> WGND 1.0 </h3>"
   ]
  },
  {
   "cell_type": "code",
   "execution_count": 96,
   "metadata": {},
   "outputs": [
    {
     "data": {
      "image/png": "[encoded data removed]",
      "text/plain": [
       "<Figure size 432x288 with 2 Axes>"
      ]
     },
     "metadata": {
      "needs_background": "light"
     },
     "output_type": "display_data"
    }
   ],
   "source": [
    "import matplotlib.pyplot as plt \n",
    "from sklearn import metrics \n",
    "confusion_matrix = metrics.confusion_matrix(list(aggregate['male_flag']), list(aggregate['gender_x'])) \n",
    "cm_display = metrics.ConfusionMatrixDisplay(confusion_matrix = confusion_matrix, display_labels = ['Female', 'Male','Ambiguous'])\n",
    "#plt.grid(False)\n",
    "\n",
    "\n",
    "cm_display = cm_display.plot(cmap=plt.cm.Blues)\n",
    "plt.grid(False)\n",
    "plt.show()"
   ]
  },
  {
   "cell_type": "markdown",
   "metadata": {},
   "source": [
    "<h3> WGND 2.0 </h3>"
   ]
  },
  {
   "cell_type": "code",
   "execution_count": 97,
   "metadata": {},
   "outputs": [
    {
     "data": {
      "image/png": "[encoded data removed]",
      "text/plain": [
       "<Figure size 432x288 with 2 Axes>"
      ]
     },
     "metadata": {
      "needs_background": "light"
     },
     "output_type": "display_data"
    }
   ],
   "source": [
    "import matplotlib.pyplot as plt \n",
    "from sklearn import metrics \n",
    "confusion_matrix = metrics.confusion_matrix(list(aggregate['male_flag']), list(aggregate['gender_y'])) \n",
    "cm_display = metrics.ConfusionMatrixDisplay(confusion_matrix = confusion_matrix, display_labels = ['Female', 'Male','Ambiguous'])\n",
    "#plt.grid(False)\n",
    "\n",
    "\n",
    "cm_display = cm_display.plot(cmap=plt.cm.Blues)\n",
    "plt.grid(False)\n",
    "plt.show()"
   ]
  },
  {
   "cell_type": "markdown",
   "metadata": {},
   "source": [
    "<h3> Gender Guesser </h3>"
   ]
  },
  {
   "cell_type": "code",
   "execution_count": 98,
   "metadata": {},
   "outputs": [
    {
     "data": {
      "image/png": "[encoded data removed]",
      "text/plain": [
       "<Figure size 432x288 with 2 Axes>"
      ]
     },
     "metadata": {
      "needs_background": "light"
     },
     "output_type": "display_data"
    }
   ],
   "source": [
    "import matplotlib.pyplot as plt \n",
    "from sklearn import metrics \n",
    "confusion_matrix = metrics.confusion_matrix(list(aggregate['male_flag']), list(aggregate['gender.guesser'])) \n",
    "cm_display = metrics.ConfusionMatrixDisplay(confusion_matrix = confusion_matrix, display_labels = ['Female', 'Male','Ambiguous'])\n",
    "#plt.grid(False)\n",
    "\n",
    "\n",
    "cm_display = cm_display.plot(cmap=plt.cm.Blues)\n",
    "plt.grid(False)\n",
    "plt.show()"
   ]
  },
  {
   "cell_type": "markdown",
   "metadata": {},
   "source": [
    "<h3> IPUMS Gender</h3>"
   ]
  },
  {
   "cell_type": "code",
   "execution_count": 99,
   "metadata": {},
   "outputs": [
    {
     "data": {
      "image/png": "[encoded data removed]",
      "text/plain": [
       "<Figure size 432x288 with 2 Axes>"
      ]
     },
     "metadata": {
      "needs_background": "light"
     },
     "output_type": "display_data"
    }
   ],
   "source": [
    "import matplotlib.pyplot as plt \n",
    "from sklearn import metrics \n",
    "confusion_matrix = metrics.confusion_matrix(list(aggregate['male_flag']), list(aggregate['ipums_gender'])) \n",
    "cm_display = metrics.ConfusionMatrixDisplay(confusion_matrix = confusion_matrix, display_labels = ['Female', 'Male','Ambiguous'])\n",
    "#plt.grid(False)\n",
    "\n",
    "\n",
    "cm_display = cm_display.plot(cmap=plt.cm.Blues)\n",
    "plt.grid(False)\n",
    "plt.show()"
   ]
  },
  {
   "cell_type": "markdown",
   "metadata": {},
   "source": [
    "<h3> SSA Gender </h3>"
   ]
  },
  {
   "cell_type": "code",
   "execution_count": 100,
   "metadata": {},
   "outputs": [
    {
     "data": {
      "image/png": "[encoded data removed]",
      "text/plain": [
       "<Figure size 432x288 with 2 Axes>"
      ]
     },
     "metadata": {
      "needs_background": "light"
     },
     "output_type": "display_data"
    }
   ],
   "source": [
    "import matplotlib.pyplot as plt \n",
    "from sklearn import metrics \n",
    "confusion_matrix = metrics.confusion_matrix(list(aggregate['male_flag']), list(aggregate['ssa_gender'])) \n",
    "cm_display = metrics.ConfusionMatrixDisplay(confusion_matrix = confusion_matrix, display_labels = ['Female', 'Male','Ambiguous'])\n",
    "#plt.grid(False)\n",
    "\n",
    "\n",
    "cm_display = cm_display.plot(cmap=plt.cm.Blues)\n",
    "plt.grid(False)\n",
    "plt.show()"
   ]
  },
  {
   "cell_type": "markdown",
   "metadata": {},
   "source": [
    "<h3> NAPP Gender</h3>"
   ]
  },
  {
   "cell_type": "code",
   "execution_count": 101,
   "metadata": {},
   "outputs": [
    {
     "data": {
      "image/png": "[encoded data removed]",
      "text/plain": [
       "<Figure size 432x288 with 2 Axes>"
      ]
     },
     "metadata": {
      "needs_background": "light"
     },
     "output_type": "display_data"
    }
   ],
   "source": [
    "import matplotlib.pyplot as plt \n",
    "from sklearn import metrics \n",
    "confusion_matrix = metrics.confusion_matrix(list(aggregate['male_flag']), list(aggregate['napp_gender'])) \n",
    "cm_display = metrics.ConfusionMatrixDisplay(confusion_matrix = confusion_matrix, display_labels = ['Female', 'Male','Ambiguous'])\n",
    "#plt.grid(False)\n",
    "\n",
    "\n",
    "cm_display = cm_display.plot(cmap=plt.cm.Blues)\n",
    "plt.grid(False)\n",
    "plt.show()"
   ]
  },
  {
   "cell_type": "markdown",
   "metadata": {},
   "source": [
    "<h3> Genderize.io</h3>"
   ]
  },
  {
   "cell_type": "code",
   "execution_count": 102,
   "metadata": {},
   "outputs": [
    {
     "data": {
      "image/png": "[encoded data removed]",
      "text/plain": [
       "<Figure size 432x288 with 2 Axes>"
      ]
     },
     "metadata": {
      "needs_background": "light"
     },
     "output_type": "display_data"
    }
   ],
   "source": [
    "import matplotlib.pyplot as plt \n",
    "from sklearn import metrics \n",
    "confusion_matrix = metrics.confusion_matrix(list(aggregate['male_flag']), list(aggregate['genderized'])) \n",
    "cm_display = metrics.ConfusionMatrixDisplay(confusion_matrix = confusion_matrix, display_labels = ['Female', 'Male','Ambiguous'])\n",
    "#plt.grid(False)\n",
    "\n",
    "\n",
    "cm_display = cm_display.plot(cmap=plt.cm.Blues)\n",
    "plt.grid(False)\n",
    "plt.show()"
   ]
  },
  {
   "cell_type": "code",
   "execution_count": null,
   "metadata": {},
   "outputs": [],
   "source": [
    "\n"
   ]
  },
  {
   "cell_type": "code",
   "execution_count": null,
   "metadata": {},
   "outputs": [],
   "source": []
  },
  {
   "cell_type": "code",
   "execution_count": 103,
   "metadata": {},
   "outputs": [
    {
     "data": {
      "text/html": [
       "<div>\n",
       "<style scoped>\n",
       "    .dataframe tbody tr th:only-of-type {\n",
       "        vertical-align: middle;\n",
       "    }\n",
       "\n",
       "    .dataframe tbody tr th {\n",
       "        vertical-align: top;\n",
       "    }\n",
       "\n",
       "    .dataframe thead th {\n",
       "        text-align: right;\n",
       "    }\n",
       "</style>\n",
       "<table border=\"1\" class=\"dataframe\">\n",
       "  <thead>\n",
       "    <tr style=\"text-align: right;\">\n",
       "      <th></th>\n",
       "      <th>Unnamed: 0</th>\n",
       "      <th>X</th>\n",
       "      <th>Unnamed..0</th>\n",
       "      <th>location_id</th>\n",
       "      <th>inventor_id</th>\n",
       "      <th>name_first</th>\n",
       "      <th>name_last</th>\n",
       "      <th>male_flag</th>\n",
       "      <th>attribution_status</th>\n",
       "      <th>city</th>\n",
       "      <th>...</th>\n",
       "      <th>cleaned_name</th>\n",
       "      <th>gender_x</th>\n",
       "      <th>code_y</th>\n",
       "      <th>gender_y</th>\n",
       "      <th>wgt</th>\n",
       "      <th>gender.guesser</th>\n",
       "      <th>ipums_gender</th>\n",
       "      <th>ssa_gender</th>\n",
       "      <th>napp_gender</th>\n",
       "      <th>genderized</th>\n",
       "    </tr>\n",
       "  </thead>\n",
       "  <tbody>\n",
       "    <tr>\n",
       "      <th>0</th>\n",
       "      <td>0</td>\n",
       "      <td>167726</td>\n",
       "      <td>213636827</td>\n",
       "      <td>f4ac3ca3-cb8e-11eb-9615-121df0c29c1e</td>\n",
       "      <td>fl:wa_ln:karpellus-1</td>\n",
       "      <td>Walter</td>\n",
       "      <td>Karpellus</td>\n",
       "      <td>1</td>\n",
       "      <td>1</td>\n",
       "      <td>Innsbruck</td>\n",
       "      <td>...</td>\n",
       "      <td>walter</td>\n",
       "      <td>M</td>\n",
       "      <td>AT</td>\n",
       "      <td>M</td>\n",
       "      <td>1.0</td>\n",
       "      <td>male</td>\n",
       "      <td>male</td>\n",
       "      <td>male</td>\n",
       "      <td>male</td>\n",
       "      <td>male</td>\n",
       "    </tr>\n",
       "    <tr>\n",
       "      <th>1</th>\n",
       "      <td>1</td>\n",
       "      <td>189431</td>\n",
       "      <td>237736045</td>\n",
       "      <td>fae27d84-cb90-11eb-9615-121df0c29c1e</td>\n",
       "      <td>fl:ma_ln:buerger-5</td>\n",
       "      <td>Martin</td>\n",
       "      <td>BUERGER</td>\n",
       "      <td>1</td>\n",
       "      <td>1</td>\n",
       "      <td>Linz</td>\n",
       "      <td>...</td>\n",
       "      <td>martin</td>\n",
       "      <td>M</td>\n",
       "      <td>AT</td>\n",
       "      <td>M</td>\n",
       "      <td>1.0</td>\n",
       "      <td>male</td>\n",
       "      <td>male</td>\n",
       "      <td>male</td>\n",
       "      <td>male</td>\n",
       "      <td>male</td>\n",
       "    </tr>\n",
       "    <tr>\n",
       "      <th>2</th>\n",
       "      <td>2</td>\n",
       "      <td>62630</td>\n",
       "      <td>85603620</td>\n",
       "      <td>6f17aa21-cb8e-11eb-9615-121df0c29c1e</td>\n",
       "      <td>cqdvq9cvnbjpw5k8y9d9f6wmg</td>\n",
       "      <td>Siegmar</td>\n",
       "      <td>Gekle</td>\n",
       "      <td>1</td>\n",
       "      <td>1</td>\n",
       "      <td>Zeltweg</td>\n",
       "      <td>...</td>\n",
       "      <td>siegmar</td>\n",
       "      <td>M</td>\n",
       "      <td>AT</td>\n",
       "      <td>M</td>\n",
       "      <td>1.0</td>\n",
       "      <td>male</td>\n",
       "      <td>unknown</td>\n",
       "      <td>unknown</td>\n",
       "      <td>unknown</td>\n",
       "      <td>male</td>\n",
       "    </tr>\n",
       "    <tr>\n",
       "      <th>3</th>\n",
       "      <td>3</td>\n",
       "      <td>42977</td>\n",
       "      <td>59938467</td>\n",
       "      <td>4c02e0a2-cb8f-11eb-9615-121df0c29c1e</td>\n",
       "      <td>fl:fr_ln:kohlweiss-1</td>\n",
       "      <td>Franz</td>\n",
       "      <td>KOHLWEISS</td>\n",
       "      <td>1</td>\n",
       "      <td>1</td>\n",
       "      <td>Hard</td>\n",
       "      <td>...</td>\n",
       "      <td>franz</td>\n",
       "      <td>M</td>\n",
       "      <td>AT</td>\n",
       "      <td>M</td>\n",
       "      <td>1.0</td>\n",
       "      <td>male</td>\n",
       "      <td>male</td>\n",
       "      <td>male</td>\n",
       "      <td>male</td>\n",
       "      <td>male</td>\n",
       "    </tr>\n",
       "    <tr>\n",
       "      <th>4</th>\n",
       "      <td>4</td>\n",
       "      <td>122565</td>\n",
       "      <td>160868533</td>\n",
       "      <td>d4810edc-cb8e-11eb-9615-121df0c29c1e</td>\n",
       "      <td>jij0ire16ueqaup2bk5r39lrt</td>\n",
       "      <td>Helmut</td>\n",
       "      <td>Habenicht</td>\n",
       "      <td>1</td>\n",
       "      <td>1</td>\n",
       "      <td>Weisskirchen</td>\n",
       "      <td>...</td>\n",
       "      <td>helmut</td>\n",
       "      <td>M</td>\n",
       "      <td>AT</td>\n",
       "      <td>M</td>\n",
       "      <td>1.0</td>\n",
       "      <td>male</td>\n",
       "      <td>male</td>\n",
       "      <td>male</td>\n",
       "      <td>male</td>\n",
       "      <td>male</td>\n",
       "    </tr>\n",
       "  </tbody>\n",
       "</table>\n",
       "<p>5 rows × 27 columns</p>\n",
       "</div>"
      ],
      "text/plain": [
       "   Unnamed: 0       X  Unnamed..0                           location_id  \\\n",
       "0           0  167726   213636827  f4ac3ca3-cb8e-11eb-9615-121df0c29c1e   \n",
       "1           1  189431   237736045  fae27d84-cb90-11eb-9615-121df0c29c1e   \n",
       "2           2   62630    85603620  6f17aa21-cb8e-11eb-9615-121df0c29c1e   \n",
       "3           3   42977    59938467  4c02e0a2-cb8f-11eb-9615-121df0c29c1e   \n",
       "4           4  122565   160868533  d4810edc-cb8e-11eb-9615-121df0c29c1e   \n",
       "\n",
       "                 inventor_id name_first  name_last  male_flag  \\\n",
       "0       fl:wa_ln:karpellus-1     Walter  Karpellus          1   \n",
       "1         fl:ma_ln:buerger-5     Martin    BUERGER          1   \n",
       "2  cqdvq9cvnbjpw5k8y9d9f6wmg    Siegmar      Gekle          1   \n",
       "3       fl:fr_ln:kohlweiss-1      Franz  KOHLWEISS          1   \n",
       "4  jij0ire16ueqaup2bk5r39lrt     Helmut  Habenicht          1   \n",
       "\n",
       "   attribution_status          city  ... cleaned_name gender_x  code_y  \\\n",
       "0                   1     Innsbruck  ...       walter        M      AT   \n",
       "1                   1          Linz  ...       martin        M      AT   \n",
       "2                   1       Zeltweg  ...      siegmar        M      AT   \n",
       "3                   1          Hard  ...        franz        M      AT   \n",
       "4                   1  Weisskirchen  ...       helmut        M      AT   \n",
       "\n",
       "   gender_y  wgt  gender.guesser  ipums_gender ssa_gender napp_gender  \\\n",
       "0         M  1.0            male          male       male        male   \n",
       "1         M  1.0            male          male       male        male   \n",
       "2         M  1.0            male       unknown    unknown     unknown   \n",
       "3         M  1.0            male          male       male        male   \n",
       "4         M  1.0            male          male       male        male   \n",
       "\n",
       "  genderized  \n",
       "0       male  \n",
       "1       male  \n",
       "2       male  \n",
       "3       male  \n",
       "4       male  \n",
       "\n",
       "[5 rows x 27 columns]"
      ]
     },
     "execution_count": 103,
     "metadata": {},
     "output_type": "execute_result"
    }
   ],
   "source": [
    "civil_male.head()"
   ]
  },
  {
   "cell_type": "code",
   "execution_count": 104,
   "metadata": {},
   "outputs": [],
   "source": [
    "all_mismatch_civil_male=civil_male[(civil_male['gender_x']=='F') & (civil_male['gender_y']=='F') & (civil_male['gender.guesser']=='female') & (civil_male['ipums_gender']=='female') & (civil_male['ssa_gender']=='female') & (civil_male['napp_gender']=='female')& (pharma_male['genderized']=='female')]"
   ]
  },
  {
   "cell_type": "code",
   "execution_count": 105,
   "metadata": {},
   "outputs": [
    {
     "data": {
      "text/html": [
       "<div>\n",
       "<style scoped>\n",
       "    .dataframe tbody tr th:only-of-type {\n",
       "        vertical-align: middle;\n",
       "    }\n",
       "\n",
       "    .dataframe tbody tr th {\n",
       "        vertical-align: top;\n",
       "    }\n",
       "\n",
       "    .dataframe thead th {\n",
       "        text-align: right;\n",
       "    }\n",
       "</style>\n",
       "<table border=\"1\" class=\"dataframe\">\n",
       "  <thead>\n",
       "    <tr style=\"text-align: right;\">\n",
       "      <th></th>\n",
       "      <th>Unnamed: 0</th>\n",
       "      <th>X</th>\n",
       "      <th>Unnamed..0</th>\n",
       "      <th>location_id</th>\n",
       "      <th>inventor_id</th>\n",
       "      <th>name_first</th>\n",
       "      <th>name_last</th>\n",
       "      <th>male_flag</th>\n",
       "      <th>attribution_status</th>\n",
       "      <th>city</th>\n",
       "      <th>...</th>\n",
       "      <th>cleaned_name</th>\n",
       "      <th>gender_x</th>\n",
       "      <th>code_y</th>\n",
       "      <th>gender_y</th>\n",
       "      <th>wgt</th>\n",
       "      <th>gender.guesser</th>\n",
       "      <th>ipums_gender</th>\n",
       "      <th>ssa_gender</th>\n",
       "      <th>napp_gender</th>\n",
       "      <th>genderized</th>\n",
       "    </tr>\n",
       "  </thead>\n",
       "  <tbody>\n",
       "  </tbody>\n",
       "</table>\n",
       "<p>0 rows × 27 columns</p>\n",
       "</div>"
      ],
      "text/plain": [
       "Empty DataFrame\n",
       "Columns: [Unnamed: 0, X, Unnamed..0, location_id, inventor_id, name_first, name_last, male_flag, attribution_status, city, state, country, latitude, longitude, county, state_fips, county_fips, cleaned_name, gender_x, code_y, gender_y, wgt, gender.guesser, ipums_gender, ssa_gender, napp_gender, genderized]\n",
       "Index: []\n",
       "\n",
       "[0 rows x 27 columns]"
      ]
     },
     "execution_count": 105,
     "metadata": {},
     "output_type": "execute_result"
    }
   ],
   "source": [
    "all_mismatch_civil_male"
   ]
  },
  {
   "cell_type": "code",
   "execution_count": 106,
   "metadata": {},
   "outputs": [],
   "source": [
    "all_mismatch_pharma_male=pharma_male[(pharma_male['gender_x']=='F') & (pharma_male['gender_y']=='F') & (pharma_male['gender.guesser']=='female') & (pharma_male['ipums_gender']=='female') & (pharma_male['ssa_gender']=='female') & (pharma_male['napp_gender']=='female')& (pharma_male['genderized']=='female')]"
   ]
  },
  {
   "cell_type": "code",
   "execution_count": 107,
   "metadata": {},
   "outputs": [
    {
     "data": {
      "text/html": [
       "<div>\n",
       "<style scoped>\n",
       "    .dataframe tbody tr th:only-of-type {\n",
       "        vertical-align: middle;\n",
       "    }\n",
       "\n",
       "    .dataframe tbody tr th {\n",
       "        vertical-align: top;\n",
       "    }\n",
       "\n",
       "    .dataframe thead th {\n",
       "        text-align: right;\n",
       "    }\n",
       "</style>\n",
       "<table border=\"1\" class=\"dataframe\">\n",
       "  <thead>\n",
       "    <tr style=\"text-align: right;\">\n",
       "      <th></th>\n",
       "      <th>Unnamed: 0</th>\n",
       "      <th>X</th>\n",
       "      <th>Unnamed..0</th>\n",
       "      <th>location_id</th>\n",
       "      <th>inventor_id</th>\n",
       "      <th>name_first</th>\n",
       "      <th>name_last</th>\n",
       "      <th>male_flag</th>\n",
       "      <th>attribution_status</th>\n",
       "      <th>city</th>\n",
       "      <th>...</th>\n",
       "      <th>cleaned_name</th>\n",
       "      <th>gender_x</th>\n",
       "      <th>code_y</th>\n",
       "      <th>gender_y</th>\n",
       "      <th>wgt</th>\n",
       "      <th>gender.guesser</th>\n",
       "      <th>ipums_gender</th>\n",
       "      <th>ssa_gender</th>\n",
       "      <th>napp_gender</th>\n",
       "      <th>genderized</th>\n",
       "    </tr>\n",
       "  </thead>\n",
       "  <tbody>\n",
       "    <tr>\n",
       "      <th>54</th>\n",
       "      <td>54</td>\n",
       "      <td>140735</td>\n",
       "      <td>156209851</td>\n",
       "      <td>e1a11e6f-cb90-11eb-9615-121df0c29c1e</td>\n",
       "      <td>fl:li_ln:parker-8</td>\n",
       "      <td>Linda</td>\n",
       "      <td>Parker</td>\n",
       "      <td>1</td>\n",
       "      <td>1</td>\n",
       "      <td>Guelph</td>\n",
       "      <td>...</td>\n",
       "      <td>linda</td>\n",
       "      <td>F</td>\n",
       "      <td>CA</td>\n",
       "      <td>F</td>\n",
       "      <td>0.999982</td>\n",
       "      <td>female</td>\n",
       "      <td>female</td>\n",
       "      <td>female</td>\n",
       "      <td>female</td>\n",
       "      <td>female</td>\n",
       "    </tr>\n",
       "    <tr>\n",
       "      <th>70</th>\n",
       "      <td>70</td>\n",
       "      <td>309689</td>\n",
       "      <td>303380337</td>\n",
       "      <td>ff643dfd-cb90-11eb-9615-121df0c29c1e</td>\n",
       "      <td>fl:es_ln:schmitt-1</td>\n",
       "      <td>Esther</td>\n",
       "      <td>Schmitt</td>\n",
       "      <td>1</td>\n",
       "      <td>1</td>\n",
       "      <td>Basel</td>\n",
       "      <td>...</td>\n",
       "      <td>esther</td>\n",
       "      <td>F</td>\n",
       "      <td>CH</td>\n",
       "      <td>F</td>\n",
       "      <td>1.000000</td>\n",
       "      <td>female</td>\n",
       "      <td>female</td>\n",
       "      <td>female</td>\n",
       "      <td>female</td>\n",
       "      <td>female</td>\n",
       "    </tr>\n",
       "    <tr>\n",
       "      <th>292</th>\n",
       "      <td>292</td>\n",
       "      <td>263677</td>\n",
       "      <td>271157354</td>\n",
       "      <td>fd0fa322-cb8e-11eb-9615-121df0c29c1e</td>\n",
       "      <td>fl:cl_ln:wilson-16</td>\n",
       "      <td>Claire</td>\n",
       "      <td>Wilson</td>\n",
       "      <td>1</td>\n",
       "      <td>1</td>\n",
       "      <td>Dublin</td>\n",
       "      <td>...</td>\n",
       "      <td>claire</td>\n",
       "      <td>F</td>\n",
       "      <td>IE</td>\n",
       "      <td>F</td>\n",
       "      <td>1.000000</td>\n",
       "      <td>female</td>\n",
       "      <td>female</td>\n",
       "      <td>female</td>\n",
       "      <td>female</td>\n",
       "      <td>female</td>\n",
       "    </tr>\n",
       "    <tr>\n",
       "      <th>293</th>\n",
       "      <td>293</td>\n",
       "      <td>150296</td>\n",
       "      <td>166396352</td>\n",
       "      <td>e5e5aff8-09bd-11ec-893a-12de62d610b1</td>\n",
       "      <td>fl:ad_ln:katz-3</td>\n",
       "      <td>Adriana</td>\n",
       "      <td>Katz</td>\n",
       "      <td>1</td>\n",
       "      <td>1</td>\n",
       "      <td>Rehovot</td>\n",
       "      <td>...</td>\n",
       "      <td>adriana</td>\n",
       "      <td>F</td>\n",
       "      <td>IL</td>\n",
       "      <td>F</td>\n",
       "      <td>1.000000</td>\n",
       "      <td>female</td>\n",
       "      <td>female</td>\n",
       "      <td>female</td>\n",
       "      <td>female</td>\n",
       "      <td>female</td>\n",
       "    </tr>\n",
       "    <tr>\n",
       "      <th>535</th>\n",
       "      <td>535</td>\n",
       "      <td>17323</td>\n",
       "      <td>20392710</td>\n",
       "      <td>3d7481e5-cb8e-11eb-9615-121df0c29c1e</td>\n",
       "      <td>fl:ma_ln:andersson-62</td>\n",
       "      <td>Marie</td>\n",
       "      <td>Andersson</td>\n",
       "      <td>1</td>\n",
       "      <td>1</td>\n",
       "      <td>Gteborg</td>\n",
       "      <td>...</td>\n",
       "      <td>marie</td>\n",
       "      <td>F</td>\n",
       "      <td>SE</td>\n",
       "      <td>F</td>\n",
       "      <td>1.000000</td>\n",
       "      <td>female</td>\n",
       "      <td>female</td>\n",
       "      <td>female</td>\n",
       "      <td>female</td>\n",
       "      <td>female</td>\n",
       "    </tr>\n",
       "    <tr>\n",
       "      <th>541</th>\n",
       "      <td>541</td>\n",
       "      <td>228367</td>\n",
       "      <td>240461440</td>\n",
       "      <td>f99a62b5-cb8e-11eb-9615-121df0c29c1e</td>\n",
       "      <td>fl:je_ln:viklund-1</td>\n",
       "      <td>Jenny</td>\n",
       "      <td>Viklund</td>\n",
       "      <td>1</td>\n",
       "      <td>1</td>\n",
       "      <td>Sodertalje</td>\n",
       "      <td>...</td>\n",
       "      <td>jenny</td>\n",
       "      <td>F</td>\n",
       "      <td>SE</td>\n",
       "      <td>F</td>\n",
       "      <td>1.000000</td>\n",
       "      <td>female</td>\n",
       "      <td>female</td>\n",
       "      <td>female</td>\n",
       "      <td>female</td>\n",
       "      <td>female</td>\n",
       "    </tr>\n",
       "    <tr>\n",
       "      <th>618</th>\n",
       "      <td>618</td>\n",
       "      <td>114925</td>\n",
       "      <td>129236646</td>\n",
       "      <td>d04b4b3f-cb90-11eb-9615-121df0c29c1e</td>\n",
       "      <td>fl:di_ln:thompson-5</td>\n",
       "      <td>Diana</td>\n",
       "      <td>Thompson</td>\n",
       "      <td>1</td>\n",
       "      <td>1</td>\n",
       "      <td>Wyoming</td>\n",
       "      <td>...</td>\n",
       "      <td>diana</td>\n",
       "      <td>F</td>\n",
       "      <td>US</td>\n",
       "      <td>F</td>\n",
       "      <td>0.996359</td>\n",
       "      <td>female</td>\n",
       "      <td>female</td>\n",
       "      <td>female</td>\n",
       "      <td>female</td>\n",
       "      <td>female</td>\n",
       "    </tr>\n",
       "    <tr>\n",
       "      <th>640</th>\n",
       "      <td>640</td>\n",
       "      <td>125362</td>\n",
       "      <td>140344500</td>\n",
       "      <td>d750d0e9-cb90-11eb-9615-121df0c29c1e</td>\n",
       "      <td>fl:me_ln:sanders-3</td>\n",
       "      <td>Melinda</td>\n",
       "      <td>Sanders</td>\n",
       "      <td>1</td>\n",
       "      <td>1</td>\n",
       "      <td>Nashville</td>\n",
       "      <td>...</td>\n",
       "      <td>melinda</td>\n",
       "      <td>F</td>\n",
       "      <td>US</td>\n",
       "      <td>F</td>\n",
       "      <td>0.997496</td>\n",
       "      <td>female</td>\n",
       "      <td>female</td>\n",
       "      <td>female</td>\n",
       "      <td>female</td>\n",
       "      <td>female</td>\n",
       "    </tr>\n",
       "    <tr>\n",
       "      <th>699</th>\n",
       "      <td>699</td>\n",
       "      <td>77742</td>\n",
       "      <td>89504256</td>\n",
       "      <td>a3cd8ff4-cb8e-11eb-9615-121df0c29c1e</td>\n",
       "      <td>fl:ju_ln:hughes-4</td>\n",
       "      <td>Julie</td>\n",
       "      <td>Hughes</td>\n",
       "      <td>1</td>\n",
       "      <td>1</td>\n",
       "      <td>Williamsville</td>\n",
       "      <td>...</td>\n",
       "      <td>julie</td>\n",
       "      <td>F</td>\n",
       "      <td>US</td>\n",
       "      <td>F</td>\n",
       "      <td>0.996989</td>\n",
       "      <td>female</td>\n",
       "      <td>female</td>\n",
       "      <td>female</td>\n",
       "      <td>female</td>\n",
       "      <td>female</td>\n",
       "    </tr>\n",
       "    <tr>\n",
       "      <th>778</th>\n",
       "      <td>778</td>\n",
       "      <td>214163</td>\n",
       "      <td>224461253</td>\n",
       "      <td>f84345b4-cb8e-11eb-9615-121df0c29c1e</td>\n",
       "      <td>fl:ma_ln:castaneda-5</td>\n",
       "      <td>Maria</td>\n",
       "      <td>Castaneda</td>\n",
       "      <td>1</td>\n",
       "      <td>1</td>\n",
       "      <td>Garland</td>\n",
       "      <td>...</td>\n",
       "      <td>maria</td>\n",
       "      <td>F</td>\n",
       "      <td>US</td>\n",
       "      <td>F</td>\n",
       "      <td>0.992114</td>\n",
       "      <td>female</td>\n",
       "      <td>female</td>\n",
       "      <td>female</td>\n",
       "      <td>female</td>\n",
       "      <td>female</td>\n",
       "    </tr>\n",
       "  </tbody>\n",
       "</table>\n",
       "<p>10 rows × 27 columns</p>\n",
       "</div>"
      ],
      "text/plain": [
       "     Unnamed: 0       X  Unnamed..0                           location_id  \\\n",
       "54           54  140735   156209851  e1a11e6f-cb90-11eb-9615-121df0c29c1e   \n",
       "70           70  309689   303380337  ff643dfd-cb90-11eb-9615-121df0c29c1e   \n",
       "292         292  263677   271157354  fd0fa322-cb8e-11eb-9615-121df0c29c1e   \n",
       "293         293  150296   166396352  e5e5aff8-09bd-11ec-893a-12de62d610b1   \n",
       "535         535   17323    20392710  3d7481e5-cb8e-11eb-9615-121df0c29c1e   \n",
       "541         541  228367   240461440  f99a62b5-cb8e-11eb-9615-121df0c29c1e   \n",
       "618         618  114925   129236646  d04b4b3f-cb90-11eb-9615-121df0c29c1e   \n",
       "640         640  125362   140344500  d750d0e9-cb90-11eb-9615-121df0c29c1e   \n",
       "699         699   77742    89504256  a3cd8ff4-cb8e-11eb-9615-121df0c29c1e   \n",
       "778         778  214163   224461253  f84345b4-cb8e-11eb-9615-121df0c29c1e   \n",
       "\n",
       "               inventor_id name_first  name_last  male_flag  \\\n",
       "54       fl:li_ln:parker-8      Linda     Parker          1   \n",
       "70      fl:es_ln:schmitt-1     Esther    Schmitt          1   \n",
       "292     fl:cl_ln:wilson-16     Claire     Wilson          1   \n",
       "293        fl:ad_ln:katz-3    Adriana       Katz          1   \n",
       "535  fl:ma_ln:andersson-62      Marie  Andersson          1   \n",
       "541     fl:je_ln:viklund-1      Jenny    Viklund          1   \n",
       "618    fl:di_ln:thompson-5      Diana   Thompson          1   \n",
       "640     fl:me_ln:sanders-3    Melinda    Sanders          1   \n",
       "699      fl:ju_ln:hughes-4      Julie     Hughes          1   \n",
       "778   fl:ma_ln:castaneda-5      Maria  Castaneda          1   \n",
       "\n",
       "     attribution_status           city  ... cleaned_name gender_x  code_y  \\\n",
       "54                    1         Guelph  ...        linda        F      CA   \n",
       "70                    1          Basel  ...       esther        F      CH   \n",
       "292                   1         Dublin  ...       claire        F      IE   \n",
       "293                   1        Rehovot  ...      adriana        F      IL   \n",
       "535                   1        Gteborg  ...        marie        F      SE   \n",
       "541                   1     Sodertalje  ...        jenny        F      SE   \n",
       "618                   1        Wyoming  ...        diana        F      US   \n",
       "640                   1      Nashville  ...      melinda        F      US   \n",
       "699                   1  Williamsville  ...        julie        F      US   \n",
       "778                   1        Garland  ...        maria        F      US   \n",
       "\n",
       "     gender_y       wgt  gender.guesser  ipums_gender ssa_gender napp_gender  \\\n",
       "54          F  0.999982          female        female     female      female   \n",
       "70          F  1.000000          female        female     female      female   \n",
       "292         F  1.000000          female        female     female      female   \n",
       "293         F  1.000000          female        female     female      female   \n",
       "535         F  1.000000          female        female     female      female   \n",
       "541         F  1.000000          female        female     female      female   \n",
       "618         F  0.996359          female        female     female      female   \n",
       "640         F  0.997496          female        female     female      female   \n",
       "699         F  0.996989          female        female     female      female   \n",
       "778         F  0.992114          female        female     female      female   \n",
       "\n",
       "    genderized  \n",
       "54      female  \n",
       "70      female  \n",
       "292     female  \n",
       "293     female  \n",
       "535     female  \n",
       "541     female  \n",
       "618     female  \n",
       "640     female  \n",
       "699     female  \n",
       "778     female  \n",
       "\n",
       "[10 rows x 27 columns]"
      ]
     },
     "execution_count": 107,
     "metadata": {},
     "output_type": "execute_result"
    }
   ],
   "source": [
    "all_mismatch_pharma_male"
   ]
  },
  {
   "cell_type": "code",
   "execution_count": 108,
   "metadata": {},
   "outputs": [],
   "source": [
    "all_mismatch_civil_nonmale=civil_nonmale[(civil_nonmale['gender_x']=='M') & (civil_nonmale['gender_y']=='M') & (civil_nonmale['gender.guesser']=='male') & (civil_nonmale['ipums_gender']=='male') & (civil_nonmale['ssa_gender']=='male') & (civil_nonmale['napp_gender']=='male')& (pharma_male['genderized']=='male')]"
   ]
  },
  {
   "cell_type": "code",
   "execution_count": 109,
   "metadata": {},
   "outputs": [
    {
     "data": {
      "text/html": [
       "<div>\n",
       "<style scoped>\n",
       "    .dataframe tbody tr th:only-of-type {\n",
       "        vertical-align: middle;\n",
       "    }\n",
       "\n",
       "    .dataframe tbody tr th {\n",
       "        vertical-align: top;\n",
       "    }\n",
       "\n",
       "    .dataframe thead th {\n",
       "        text-align: right;\n",
       "    }\n",
       "</style>\n",
       "<table border=\"1\" class=\"dataframe\">\n",
       "  <thead>\n",
       "    <tr style=\"text-align: right;\">\n",
       "      <th></th>\n",
       "      <th>Unnamed: 0</th>\n",
       "      <th>X</th>\n",
       "      <th>Unnamed..0</th>\n",
       "      <th>location_id</th>\n",
       "      <th>inventor_id</th>\n",
       "      <th>name_first</th>\n",
       "      <th>name_last</th>\n",
       "      <th>male_flag</th>\n",
       "      <th>attribution_status</th>\n",
       "      <th>city</th>\n",
       "      <th>...</th>\n",
       "      <th>cleaned_name</th>\n",
       "      <th>gender_x</th>\n",
       "      <th>code_y</th>\n",
       "      <th>gender_y</th>\n",
       "      <th>wgt</th>\n",
       "      <th>gender.guesser</th>\n",
       "      <th>ipums_gender</th>\n",
       "      <th>ssa_gender</th>\n",
       "      <th>napp_gender</th>\n",
       "      <th>genderized</th>\n",
       "    </tr>\n",
       "  </thead>\n",
       "  <tbody>\n",
       "    <tr>\n",
       "      <th>1</th>\n",
       "      <td>1</td>\n",
       "      <td>103424</td>\n",
       "      <td>137270285</td>\n",
       "      <td>bf97f9d7-cb90-11eb-9615-121df0c29c1e</td>\n",
       "      <td>fl:ch_ln:neumann-12</td>\n",
       "      <td>Christian</td>\n",
       "      <td>Neumann</td>\n",
       "      <td>0.0</td>\n",
       "      <td>1</td>\n",
       "      <td>Absam</td>\n",
       "      <td>...</td>\n",
       "      <td>christian</td>\n",
       "      <td>M</td>\n",
       "      <td>AT</td>\n",
       "      <td>M</td>\n",
       "      <td>1.000000</td>\n",
       "      <td>male</td>\n",
       "      <td>male</td>\n",
       "      <td>male</td>\n",
       "      <td>male</td>\n",
       "      <td>male</td>\n",
       "    </tr>\n",
       "    <tr>\n",
       "      <th>3</th>\n",
       "      <td>3</td>\n",
       "      <td>170561</td>\n",
       "      <td>216915157</td>\n",
       "      <td>f5ebde52-cb8e-11eb-9615-121df0c29c1e</td>\n",
       "      <td>fl:he_ln:day-5</td>\n",
       "      <td>Henry</td>\n",
       "      <td>Day</td>\n",
       "      <td>NaN</td>\n",
       "      <td>99</td>\n",
       "      <td>Sydney</td>\n",
       "      <td>...</td>\n",
       "      <td>henry</td>\n",
       "      <td>M</td>\n",
       "      <td>AU</td>\n",
       "      <td>M</td>\n",
       "      <td>1.000000</td>\n",
       "      <td>male</td>\n",
       "      <td>male</td>\n",
       "      <td>male</td>\n",
       "      <td>male</td>\n",
       "      <td>male</td>\n",
       "    </tr>\n",
       "    <tr>\n",
       "      <th>20</th>\n",
       "      <td>20</td>\n",
       "      <td>40271</td>\n",
       "      <td>56277472</td>\n",
       "      <td>485f88d4-cb8e-11eb-9615-121df0c29c1e</td>\n",
       "      <td>zn9alunu2c94xgjsri83yw3ju</td>\n",
       "      <td>Ivan</td>\n",
       "      <td>Saptykov</td>\n",
       "      <td>NaN</td>\n",
       "      <td>99</td>\n",
       "      <td>Montreal</td>\n",
       "      <td>...</td>\n",
       "      <td>ivan</td>\n",
       "      <td>M</td>\n",
       "      <td>CA</td>\n",
       "      <td>M</td>\n",
       "      <td>1.000000</td>\n",
       "      <td>male</td>\n",
       "      <td>male</td>\n",
       "      <td>male</td>\n",
       "      <td>male</td>\n",
       "      <td>male</td>\n",
       "    </tr>\n",
       "    <tr>\n",
       "      <th>40</th>\n",
       "      <td>40</td>\n",
       "      <td>187747</td>\n",
       "      <td>235855334</td>\n",
       "      <td>fa71140e-09bd-11ec-893a-12de62d610b1</td>\n",
       "      <td>fl:ad_ln:baker-3</td>\n",
       "      <td>Adam</td>\n",
       "      <td>Baker</td>\n",
       "      <td>0.0</td>\n",
       "      <td>1</td>\n",
       "      <td>St. John's</td>\n",
       "      <td>...</td>\n",
       "      <td>adam</td>\n",
       "      <td>M</td>\n",
       "      <td>CA</td>\n",
       "      <td>M</td>\n",
       "      <td>1.000000</td>\n",
       "      <td>male</td>\n",
       "      <td>male</td>\n",
       "      <td>male</td>\n",
       "      <td>male</td>\n",
       "      <td>male</td>\n",
       "    </tr>\n",
       "    <tr>\n",
       "      <th>51</th>\n",
       "      <td>51</td>\n",
       "      <td>66529</td>\n",
       "      <td>90624394</td>\n",
       "      <td>774891c7-cb90-11eb-9615-121df0c29c1e</td>\n",
       "      <td>fl:do_ln:pelletier-3</td>\n",
       "      <td>Donat</td>\n",
       "      <td>Pelletier</td>\n",
       "      <td>0.0</td>\n",
       "      <td>1</td>\n",
       "      <td>St-Philippe</td>\n",
       "      <td>...</td>\n",
       "      <td>donat</td>\n",
       "      <td>M</td>\n",
       "      <td>CA</td>\n",
       "      <td>M</td>\n",
       "      <td>1.000000</td>\n",
       "      <td>male</td>\n",
       "      <td>male</td>\n",
       "      <td>male</td>\n",
       "      <td>male</td>\n",
       "      <td>male</td>\n",
       "    </tr>\n",
       "    <tr>\n",
       "      <th>...</th>\n",
       "      <td>...</td>\n",
       "      <td>...</td>\n",
       "      <td>...</td>\n",
       "      <td>...</td>\n",
       "      <td>...</td>\n",
       "      <td>...</td>\n",
       "      <td>...</td>\n",
       "      <td>...</td>\n",
       "      <td>...</td>\n",
       "      <td>...</td>\n",
       "      <td>...</td>\n",
       "      <td>...</td>\n",
       "      <td>...</td>\n",
       "      <td>...</td>\n",
       "      <td>...</td>\n",
       "      <td>...</td>\n",
       "      <td>...</td>\n",
       "      <td>...</td>\n",
       "      <td>...</td>\n",
       "      <td>...</td>\n",
       "      <td>...</td>\n",
       "    </tr>\n",
       "    <tr>\n",
       "      <th>963</th>\n",
       "      <td>963</td>\n",
       "      <td>108773</td>\n",
       "      <td>144127920</td>\n",
       "      <td>c6f67053-09bb-11ec-893a-12de62d610b1</td>\n",
       "      <td>fl:ma_ln:white-117</td>\n",
       "      <td>Max</td>\n",
       "      <td>White</td>\n",
       "      <td>0.0</td>\n",
       "      <td>1</td>\n",
       "      <td>Arlington</td>\n",
       "      <td>...</td>\n",
       "      <td>max</td>\n",
       "      <td>M</td>\n",
       "      <td>US</td>\n",
       "      <td>M</td>\n",
       "      <td>0.995889</td>\n",
       "      <td>male</td>\n",
       "      <td>male</td>\n",
       "      <td>male</td>\n",
       "      <td>male</td>\n",
       "      <td>male</td>\n",
       "    </tr>\n",
       "    <tr>\n",
       "      <th>975</th>\n",
       "      <td>975</td>\n",
       "      <td>50859</td>\n",
       "      <td>70200016</td>\n",
       "      <td>58a6c0bb-cb8e-11eb-9615-121df0c29c1e</td>\n",
       "      <td>fl:jo_ln:watson-42</td>\n",
       "      <td>John</td>\n",
       "      <td>Watson</td>\n",
       "      <td>0.0</td>\n",
       "      <td>1</td>\n",
       "      <td>Shinnston</td>\n",
       "      <td>...</td>\n",
       "      <td>john</td>\n",
       "      <td>M</td>\n",
       "      <td>US</td>\n",
       "      <td>M</td>\n",
       "      <td>0.995749</td>\n",
       "      <td>male</td>\n",
       "      <td>male</td>\n",
       "      <td>male</td>\n",
       "      <td>male</td>\n",
       "      <td>male</td>\n",
       "    </tr>\n",
       "    <tr>\n",
       "      <th>987</th>\n",
       "      <td>987</td>\n",
       "      <td>4841</td>\n",
       "      <td>6654050</td>\n",
       "      <td>3c967538-cb8e-11eb-9615-121df0c29c1e</td>\n",
       "      <td>fl:jo_ln:schneider-33</td>\n",
       "      <td>Jonathan</td>\n",
       "      <td>Schneider</td>\n",
       "      <td>0.0</td>\n",
       "      <td>1</td>\n",
       "      <td>Lake Orion</td>\n",
       "      <td>...</td>\n",
       "      <td>jonathan</td>\n",
       "      <td>M</td>\n",
       "      <td>US</td>\n",
       "      <td>M</td>\n",
       "      <td>0.995657</td>\n",
       "      <td>male</td>\n",
       "      <td>male</td>\n",
       "      <td>male</td>\n",
       "      <td>male</td>\n",
       "      <td>male</td>\n",
       "    </tr>\n",
       "    <tr>\n",
       "      <th>992</th>\n",
       "      <td>992</td>\n",
       "      <td>43506</td>\n",
       "      <td>60637797</td>\n",
       "      <td>4cbc0f2c-cb8e-11eb-9615-121df0c29c1e</td>\n",
       "      <td>439530lvj1htc6qykzjbp6faq</td>\n",
       "      <td>Jeffrey</td>\n",
       "      <td>Aragona</td>\n",
       "      <td>NaN</td>\n",
       "      <td>98</td>\n",
       "      <td>Summerville</td>\n",
       "      <td>...</td>\n",
       "      <td>jeffrey</td>\n",
       "      <td>M</td>\n",
       "      <td>US</td>\n",
       "      <td>M</td>\n",
       "      <td>0.996398</td>\n",
       "      <td>male</td>\n",
       "      <td>male</td>\n",
       "      <td>male</td>\n",
       "      <td>male</td>\n",
       "      <td>male</td>\n",
       "    </tr>\n",
       "    <tr>\n",
       "      <th>997</th>\n",
       "      <td>997</td>\n",
       "      <td>40629</td>\n",
       "      <td>56744567</td>\n",
       "      <td>48b8591d-cb8e-11eb-9615-121df0c29c1e</td>\n",
       "      <td>fl:mi_ln:mcpherson-7</td>\n",
       "      <td>Michael</td>\n",
       "      <td>McPherson</td>\n",
       "      <td>0.0</td>\n",
       "      <td>1</td>\n",
       "      <td>Mt. Carmel</td>\n",
       "      <td>...</td>\n",
       "      <td>michael</td>\n",
       "      <td>M</td>\n",
       "      <td>US</td>\n",
       "      <td>M</td>\n",
       "      <td>0.994992</td>\n",
       "      <td>male</td>\n",
       "      <td>male</td>\n",
       "      <td>male</td>\n",
       "      <td>male</td>\n",
       "      <td>male</td>\n",
       "    </tr>\n",
       "  </tbody>\n",
       "</table>\n",
       "<p>74 rows × 27 columns</p>\n",
       "</div>"
      ],
      "text/plain": [
       "     Unnamed: 0       X  Unnamed..0                           location_id  \\\n",
       "1             1  103424   137270285  bf97f9d7-cb90-11eb-9615-121df0c29c1e   \n",
       "3             3  170561   216915157  f5ebde52-cb8e-11eb-9615-121df0c29c1e   \n",
       "20           20   40271    56277472  485f88d4-cb8e-11eb-9615-121df0c29c1e   \n",
       "40           40  187747   235855334  fa71140e-09bd-11ec-893a-12de62d610b1   \n",
       "51           51   66529    90624394  774891c7-cb90-11eb-9615-121df0c29c1e   \n",
       "..          ...     ...         ...                                   ...   \n",
       "963         963  108773   144127920  c6f67053-09bb-11ec-893a-12de62d610b1   \n",
       "975         975   50859    70200016  58a6c0bb-cb8e-11eb-9615-121df0c29c1e   \n",
       "987         987    4841     6654050  3c967538-cb8e-11eb-9615-121df0c29c1e   \n",
       "992         992   43506    60637797  4cbc0f2c-cb8e-11eb-9615-121df0c29c1e   \n",
       "997         997   40629    56744567  48b8591d-cb8e-11eb-9615-121df0c29c1e   \n",
       "\n",
       "                   inventor_id name_first  name_last  male_flag  \\\n",
       "1          fl:ch_ln:neumann-12  Christian    Neumann        0.0   \n",
       "3               fl:he_ln:day-5      Henry        Day        NaN   \n",
       "20   zn9alunu2c94xgjsri83yw3ju       Ivan   Saptykov        NaN   \n",
       "40            fl:ad_ln:baker-3       Adam      Baker        0.0   \n",
       "51        fl:do_ln:pelletier-3      Donat  Pelletier        0.0   \n",
       "..                         ...        ...        ...        ...   \n",
       "963         fl:ma_ln:white-117        Max      White        0.0   \n",
       "975         fl:jo_ln:watson-42       John     Watson        0.0   \n",
       "987      fl:jo_ln:schneider-33   Jonathan  Schneider        0.0   \n",
       "992  439530lvj1htc6qykzjbp6faq    Jeffrey    Aragona        NaN   \n",
       "997       fl:mi_ln:mcpherson-7    Michael  McPherson        0.0   \n",
       "\n",
       "     attribution_status         city  ... cleaned_name gender_x  code_y  \\\n",
       "1                     1        Absam  ...    christian        M      AT   \n",
       "3                    99       Sydney  ...        henry        M      AU   \n",
       "20                   99     Montreal  ...         ivan        M      CA   \n",
       "40                    1   St. John's  ...         adam        M      CA   \n",
       "51                    1  St-Philippe  ...        donat        M      CA   \n",
       "..                  ...          ...  ...          ...      ...     ...   \n",
       "963                   1    Arlington  ...          max        M      US   \n",
       "975                   1    Shinnston  ...         john        M      US   \n",
       "987                   1   Lake Orion  ...     jonathan        M      US   \n",
       "992                  98  Summerville  ...      jeffrey        M      US   \n",
       "997                   1   Mt. Carmel  ...      michael        M      US   \n",
       "\n",
       "     gender_y       wgt  gender.guesser  ipums_gender ssa_gender napp_gender  \\\n",
       "1           M  1.000000            male          male       male        male   \n",
       "3           M  1.000000            male          male       male        male   \n",
       "20          M  1.000000            male          male       male        male   \n",
       "40          M  1.000000            male          male       male        male   \n",
       "51          M  1.000000            male          male       male        male   \n",
       "..        ...       ...             ...           ...        ...         ...   \n",
       "963         M  0.995889            male          male       male        male   \n",
       "975         M  0.995749            male          male       male        male   \n",
       "987         M  0.995657            male          male       male        male   \n",
       "992         M  0.996398            male          male       male        male   \n",
       "997         M  0.994992            male          male       male        male   \n",
       "\n",
       "    genderized  \n",
       "1         male  \n",
       "3         male  \n",
       "20        male  \n",
       "40        male  \n",
       "51        male  \n",
       "..         ...  \n",
       "963       male  \n",
       "975       male  \n",
       "987       male  \n",
       "992       male  \n",
       "997       male  \n",
       "\n",
       "[74 rows x 27 columns]"
      ]
     },
     "execution_count": 109,
     "metadata": {},
     "output_type": "execute_result"
    }
   ],
   "source": [
    "all_mismatch_civil_nonmale\n",
    "#Exa"
   ]
  },
  {
   "cell_type": "code",
   "execution_count": 110,
   "metadata": {},
   "outputs": [],
   "source": [
    "all_mismatch_pharma_nonmale=pharma_nonmale[(pharma_nonmale['gender_x']=='M') & (pharma_nonmale['gender_y']=='M') & (pharma_nonmale['gender.guesser']=='male') & (pharma_nonmale['ipums_gender']=='male') & (pharma_nonmale['ssa_gender']=='male') & (pharma_nonmale['napp_gender']=='male')& (pharma_male['genderized']=='male')]"
   ]
  },
  {
   "cell_type": "code",
   "execution_count": 111,
   "metadata": {},
   "outputs": [
    {
     "data": {
      "text/html": [
       "<div>\n",
       "<style scoped>\n",
       "    .dataframe tbody tr th:only-of-type {\n",
       "        vertical-align: middle;\n",
       "    }\n",
       "\n",
       "    .dataframe tbody tr th {\n",
       "        vertical-align: top;\n",
       "    }\n",
       "\n",
       "    .dataframe thead th {\n",
       "        text-align: right;\n",
       "    }\n",
       "</style>\n",
       "<table border=\"1\" class=\"dataframe\">\n",
       "  <thead>\n",
       "    <tr style=\"text-align: right;\">\n",
       "      <th></th>\n",
       "      <th>Unnamed: 0</th>\n",
       "      <th>X</th>\n",
       "      <th>Unnamed..0</th>\n",
       "      <th>location_id</th>\n",
       "      <th>inventor_id</th>\n",
       "      <th>name_first</th>\n",
       "      <th>name_last</th>\n",
       "      <th>male_flag</th>\n",
       "      <th>attribution_status</th>\n",
       "      <th>city</th>\n",
       "      <th>...</th>\n",
       "      <th>cleaned_name</th>\n",
       "      <th>gender_x</th>\n",
       "      <th>code_y</th>\n",
       "      <th>gender_y</th>\n",
       "      <th>wgt</th>\n",
       "      <th>gender.guesser</th>\n",
       "      <th>ipums_gender</th>\n",
       "      <th>ssa_gender</th>\n",
       "      <th>napp_gender</th>\n",
       "      <th>genderized</th>\n",
       "    </tr>\n",
       "  </thead>\n",
       "  <tbody>\n",
       "    <tr>\n",
       "      <th>110</th>\n",
       "      <td>110</td>\n",
       "      <td>93712</td>\n",
       "      <td>107053706</td>\n",
       "      <td>ba223f1b-cb8f-11eb-9615-121df0c29c1e</td>\n",
       "      <td>fl:kl_ln:braun-2</td>\n",
       "      <td>Klaus</td>\n",
       "      <td>Braun</td>\n",
       "      <td>0.0</td>\n",
       "      <td>1</td>\n",
       "      <td>Sandhausen</td>\n",
       "      <td>...</td>\n",
       "      <td>klaus</td>\n",
       "      <td>M</td>\n",
       "      <td>DE</td>\n",
       "      <td>M</td>\n",
       "      <td>1.000000</td>\n",
       "      <td>male</td>\n",
       "      <td>male</td>\n",
       "      <td>male</td>\n",
       "      <td>male</td>\n",
       "      <td>male</td>\n",
       "    </tr>\n",
       "    <tr>\n",
       "      <th>113</th>\n",
       "      <td>113</td>\n",
       "      <td>320420</td>\n",
       "      <td>308989688</td>\n",
       "      <td>ffd9adda-cb8e-11eb-9615-121df0c29c1e</td>\n",
       "      <td>fl:la_ln:rose-5</td>\n",
       "      <td>Lars</td>\n",
       "      <td>Röse</td>\n",
       "      <td>0.0</td>\n",
       "      <td>1</td>\n",
       "      <td>Berlin</td>\n",
       "      <td>...</td>\n",
       "      <td>lars</td>\n",
       "      <td>M</td>\n",
       "      <td>DE</td>\n",
       "      <td>M</td>\n",
       "      <td>1.000000</td>\n",
       "      <td>male</td>\n",
       "      <td>male</td>\n",
       "      <td>male</td>\n",
       "      <td>male</td>\n",
       "      <td>male</td>\n",
       "    </tr>\n",
       "    <tr>\n",
       "      <th>124</th>\n",
       "      <td>124</td>\n",
       "      <td>214734</td>\n",
       "      <td>224963628</td>\n",
       "      <td>f853ec68-cb90-11eb-9615-121df0c29c1e</td>\n",
       "      <td>fl:ma_ln:simon-44</td>\n",
       "      <td>Matthias</td>\n",
       "      <td>Simon</td>\n",
       "      <td>0.0</td>\n",
       "      <td>1</td>\n",
       "      <td>Bonn</td>\n",
       "      <td>...</td>\n",
       "      <td>matthias</td>\n",
       "      <td>M</td>\n",
       "      <td>DE</td>\n",
       "      <td>M</td>\n",
       "      <td>1.000000</td>\n",
       "      <td>male</td>\n",
       "      <td>male</td>\n",
       "      <td>male</td>\n",
       "      <td>male</td>\n",
       "      <td>male</td>\n",
       "    </tr>\n",
       "    <tr>\n",
       "      <th>223</th>\n",
       "      <td>223</td>\n",
       "      <td>171171</td>\n",
       "      <td>185545815</td>\n",
       "      <td>ec4459c1-cb8e-11eb-9615-121df0c29c1e</td>\n",
       "      <td>fl:vi_ln:plassat-1</td>\n",
       "      <td>Vincent</td>\n",
       "      <td>Plassat</td>\n",
       "      <td>NaN</td>\n",
       "      <td>98</td>\n",
       "      <td>La Ferte Alais</td>\n",
       "      <td>...</td>\n",
       "      <td>vincent</td>\n",
       "      <td>M</td>\n",
       "      <td>FR</td>\n",
       "      <td>M</td>\n",
       "      <td>1.000000</td>\n",
       "      <td>male</td>\n",
       "      <td>male</td>\n",
       "      <td>male</td>\n",
       "      <td>male</td>\n",
       "      <td>male</td>\n",
       "    </tr>\n",
       "    <tr>\n",
       "      <th>272</th>\n",
       "      <td>272</td>\n",
       "      <td>227858</td>\n",
       "      <td>239772605</td>\n",
       "      <td>f997b72c-cb8f-11eb-9615-121df0c29c1e</td>\n",
       "      <td>fl:si_ln:roberts-4</td>\n",
       "      <td>Simon</td>\n",
       "      <td>Roberts</td>\n",
       "      <td>0.0</td>\n",
       "      <td>1</td>\n",
       "      <td>Harlow</td>\n",
       "      <td>...</td>\n",
       "      <td>simon</td>\n",
       "      <td>M</td>\n",
       "      <td>GB</td>\n",
       "      <td>M</td>\n",
       "      <td>1.000000</td>\n",
       "      <td>male</td>\n",
       "      <td>male</td>\n",
       "      <td>male</td>\n",
       "      <td>male</td>\n",
       "      <td>male</td>\n",
       "    </tr>\n",
       "    <tr>\n",
       "      <th>282</th>\n",
       "      <td>282</td>\n",
       "      <td>100659</td>\n",
       "      <td>114665600</td>\n",
       "      <td>c242be09-cb8e-11eb-9615-121df0c29c1e</td>\n",
       "      <td>fl:ja_ln:johnston-37</td>\n",
       "      <td>James</td>\n",
       "      <td>Johnston</td>\n",
       "      <td>0.0</td>\n",
       "      <td>1</td>\n",
       "      <td>Belfast</td>\n",
       "      <td>...</td>\n",
       "      <td>james</td>\n",
       "      <td>M</td>\n",
       "      <td>GB</td>\n",
       "      <td>M</td>\n",
       "      <td>0.999981</td>\n",
       "      <td>male</td>\n",
       "      <td>male</td>\n",
       "      <td>male</td>\n",
       "      <td>male</td>\n",
       "      <td>male</td>\n",
       "    </tr>\n",
       "    <tr>\n",
       "      <th>295</th>\n",
       "      <td>295</td>\n",
       "      <td>259877</td>\n",
       "      <td>268282835</td>\n",
       "      <td>fc9e7b43-cb8e-11eb-9615-121df0c29c1e</td>\n",
       "      <td>fl:ma_ln:taylor-64</td>\n",
       "      <td>Mark</td>\n",
       "      <td>Taylor</td>\n",
       "      <td>0.0</td>\n",
       "      <td>1</td>\n",
       "      <td>Wigan</td>\n",
       "      <td>...</td>\n",
       "      <td>mark</td>\n",
       "      <td>M</td>\n",
       "      <td>GB</td>\n",
       "      <td>M</td>\n",
       "      <td>1.000000</td>\n",
       "      <td>male</td>\n",
       "      <td>male</td>\n",
       "      <td>male</td>\n",
       "      <td>male</td>\n",
       "      <td>male</td>\n",
       "    </tr>\n",
       "    <tr>\n",
       "      <th>572</th>\n",
       "      <td>572</td>\n",
       "      <td>207014</td>\n",
       "      <td>220564228</td>\n",
       "      <td>f77c66a7-09bd-11ec-893a-12de62d610b1</td>\n",
       "      <td>fl:st_ln:lange-6</td>\n",
       "      <td>Stefan</td>\n",
       "      <td>Lange</td>\n",
       "      <td>0.0</td>\n",
       "      <td>1</td>\n",
       "      <td>Gothenburg</td>\n",
       "      <td>...</td>\n",
       "      <td>stefan</td>\n",
       "      <td>M</td>\n",
       "      <td>SE</td>\n",
       "      <td>M</td>\n",
       "      <td>1.000000</td>\n",
       "      <td>male</td>\n",
       "      <td>male</td>\n",
       "      <td>male</td>\n",
       "      <td>male</td>\n",
       "      <td>male</td>\n",
       "    </tr>\n",
       "    <tr>\n",
       "      <th>705</th>\n",
       "      <td>705</td>\n",
       "      <td>123709</td>\n",
       "      <td>138496449</td>\n",
       "      <td>d6220ef2-cb8e-11eb-9615-121df0c29c1e</td>\n",
       "      <td>fl:fo_ln:porter-1</td>\n",
       "      <td>Forbes</td>\n",
       "      <td>Porter</td>\n",
       "      <td>0.0</td>\n",
       "      <td>1</td>\n",
       "      <td>Bethesda</td>\n",
       "      <td>...</td>\n",
       "      <td>forbes</td>\n",
       "      <td>M</td>\n",
       "      <td>US</td>\n",
       "      <td>M</td>\n",
       "      <td>1.000000</td>\n",
       "      <td>male</td>\n",
       "      <td>male</td>\n",
       "      <td>male</td>\n",
       "      <td>male</td>\n",
       "      <td>male</td>\n",
       "    </tr>\n",
       "    <tr>\n",
       "      <th>722</th>\n",
       "      <td>722</td>\n",
       "      <td>221512</td>\n",
       "      <td>233053047</td>\n",
       "      <td>f9139cb2-cb8f-11eb-9615-121df0c29c1e</td>\n",
       "      <td>fl:ma_ln:mclean-23</td>\n",
       "      <td>Matt</td>\n",
       "      <td>McLean</td>\n",
       "      <td>0.0</td>\n",
       "      <td>1</td>\n",
       "      <td>San Francisco</td>\n",
       "      <td>...</td>\n",
       "      <td>matt</td>\n",
       "      <td>M</td>\n",
       "      <td>US</td>\n",
       "      <td>M</td>\n",
       "      <td>0.999785</td>\n",
       "      <td>male</td>\n",
       "      <td>male</td>\n",
       "      <td>male</td>\n",
       "      <td>male</td>\n",
       "      <td>male</td>\n",
       "    </tr>\n",
       "    <tr>\n",
       "      <th>723</th>\n",
       "      <td>723</td>\n",
       "      <td>79839</td>\n",
       "      <td>92070348</td>\n",
       "      <td>a7559fb3-cb8e-11eb-9615-121df0c29c1e</td>\n",
       "      <td>fl:bi_ln:weber-1</td>\n",
       "      <td>Bill</td>\n",
       "      <td>Weber</td>\n",
       "      <td>0.0</td>\n",
       "      <td>1</td>\n",
       "      <td>Blairstown</td>\n",
       "      <td>...</td>\n",
       "      <td>bill</td>\n",
       "      <td>M</td>\n",
       "      <td>US</td>\n",
       "      <td>M</td>\n",
       "      <td>0.995546</td>\n",
       "      <td>male</td>\n",
       "      <td>male</td>\n",
       "      <td>male</td>\n",
       "      <td>male</td>\n",
       "      <td>male</td>\n",
       "    </tr>\n",
       "    <tr>\n",
       "      <th>859</th>\n",
       "      <td>859</td>\n",
       "      <td>115409</td>\n",
       "      <td>129813973</td>\n",
       "      <td>d08d8cec-cb90-11eb-9615-121df0c29c1e</td>\n",
       "      <td>fl:ma_ln:sunderland-2</td>\n",
       "      <td>Mark</td>\n",
       "      <td>Sunderland</td>\n",
       "      <td>0.0</td>\n",
       "      <td>1</td>\n",
       "      <td>Philadelphia</td>\n",
       "      <td>...</td>\n",
       "      <td>mark</td>\n",
       "      <td>M</td>\n",
       "      <td>US</td>\n",
       "      <td>M</td>\n",
       "      <td>0.996668</td>\n",
       "      <td>male</td>\n",
       "      <td>male</td>\n",
       "      <td>male</td>\n",
       "      <td>male</td>\n",
       "      <td>male</td>\n",
       "    </tr>\n",
       "    <tr>\n",
       "      <th>940</th>\n",
       "      <td>940</td>\n",
       "      <td>135796</td>\n",
       "      <td>150975046</td>\n",
       "      <td>de09fd42-cb8e-11eb-9615-121df0c29c1e</td>\n",
       "      <td>fl:ch_ln:dockendorff-1</td>\n",
       "      <td>Christopher</td>\n",
       "      <td>Dockendorff</td>\n",
       "      <td>NaN</td>\n",
       "      <td>99</td>\n",
       "      <td>Milwaukee</td>\n",
       "      <td>...</td>\n",
       "      <td>christopher</td>\n",
       "      <td>M</td>\n",
       "      <td>US</td>\n",
       "      <td>M</td>\n",
       "      <td>0.995257</td>\n",
       "      <td>male</td>\n",
       "      <td>male</td>\n",
       "      <td>male</td>\n",
       "      <td>male</td>\n",
       "      <td>male</td>\n",
       "    </tr>\n",
       "  </tbody>\n",
       "</table>\n",
       "<p>13 rows × 27 columns</p>\n",
       "</div>"
      ],
      "text/plain": [
       "     Unnamed: 0       X  Unnamed..0                           location_id  \\\n",
       "110         110   93712   107053706  ba223f1b-cb8f-11eb-9615-121df0c29c1e   \n",
       "113         113  320420   308989688  ffd9adda-cb8e-11eb-9615-121df0c29c1e   \n",
       "124         124  214734   224963628  f853ec68-cb90-11eb-9615-121df0c29c1e   \n",
       "223         223  171171   185545815  ec4459c1-cb8e-11eb-9615-121df0c29c1e   \n",
       "272         272  227858   239772605  f997b72c-cb8f-11eb-9615-121df0c29c1e   \n",
       "282         282  100659   114665600  c242be09-cb8e-11eb-9615-121df0c29c1e   \n",
       "295         295  259877   268282835  fc9e7b43-cb8e-11eb-9615-121df0c29c1e   \n",
       "572         572  207014   220564228  f77c66a7-09bd-11ec-893a-12de62d610b1   \n",
       "705         705  123709   138496449  d6220ef2-cb8e-11eb-9615-121df0c29c1e   \n",
       "722         722  221512   233053047  f9139cb2-cb8f-11eb-9615-121df0c29c1e   \n",
       "723         723   79839    92070348  a7559fb3-cb8e-11eb-9615-121df0c29c1e   \n",
       "859         859  115409   129813973  d08d8cec-cb90-11eb-9615-121df0c29c1e   \n",
       "940         940  135796   150975046  de09fd42-cb8e-11eb-9615-121df0c29c1e   \n",
       "\n",
       "                inventor_id   name_first    name_last  male_flag  \\\n",
       "110        fl:kl_ln:braun-2        Klaus        Braun        0.0   \n",
       "113         fl:la_ln:rose-5         Lars         Röse        0.0   \n",
       "124       fl:ma_ln:simon-44     Matthias        Simon        0.0   \n",
       "223      fl:vi_ln:plassat-1      Vincent      Plassat        NaN   \n",
       "272      fl:si_ln:roberts-4        Simon      Roberts        0.0   \n",
       "282    fl:ja_ln:johnston-37        James     Johnston        0.0   \n",
       "295      fl:ma_ln:taylor-64         Mark       Taylor        0.0   \n",
       "572        fl:st_ln:lange-6       Stefan        Lange        0.0   \n",
       "705       fl:fo_ln:porter-1       Forbes       Porter        0.0   \n",
       "722      fl:ma_ln:mclean-23         Matt       McLean        0.0   \n",
       "723        fl:bi_ln:weber-1         Bill        Weber        0.0   \n",
       "859   fl:ma_ln:sunderland-2         Mark   Sunderland        0.0   \n",
       "940  fl:ch_ln:dockendorff-1  Christopher  Dockendorff        NaN   \n",
       "\n",
       "     attribution_status            city  ... cleaned_name gender_x  code_y  \\\n",
       "110                   1      Sandhausen  ...        klaus        M      DE   \n",
       "113                   1          Berlin  ...         lars        M      DE   \n",
       "124                   1            Bonn  ...     matthias        M      DE   \n",
       "223                  98  La Ferte Alais  ...      vincent        M      FR   \n",
       "272                   1          Harlow  ...        simon        M      GB   \n",
       "282                   1         Belfast  ...        james        M      GB   \n",
       "295                   1           Wigan  ...         mark        M      GB   \n",
       "572                   1      Gothenburg  ...       stefan        M      SE   \n",
       "705                   1        Bethesda  ...       forbes        M      US   \n",
       "722                   1   San Francisco  ...         matt        M      US   \n",
       "723                   1      Blairstown  ...         bill        M      US   \n",
       "859                   1    Philadelphia  ...         mark        M      US   \n",
       "940                  99       Milwaukee  ...  christopher        M      US   \n",
       "\n",
       "     gender_y       wgt  gender.guesser  ipums_gender ssa_gender napp_gender  \\\n",
       "110         M  1.000000            male          male       male        male   \n",
       "113         M  1.000000            male          male       male        male   \n",
       "124         M  1.000000            male          male       male        male   \n",
       "223         M  1.000000            male          male       male        male   \n",
       "272         M  1.000000            male          male       male        male   \n",
       "282         M  0.999981            male          male       male        male   \n",
       "295         M  1.000000            male          male       male        male   \n",
       "572         M  1.000000            male          male       male        male   \n",
       "705         M  1.000000            male          male       male        male   \n",
       "722         M  0.999785            male          male       male        male   \n",
       "723         M  0.995546            male          male       male        male   \n",
       "859         M  0.996668            male          male       male        male   \n",
       "940         M  0.995257            male          male       male        male   \n",
       "\n",
       "    genderized  \n",
       "110       male  \n",
       "113       male  \n",
       "124       male  \n",
       "223       male  \n",
       "272       male  \n",
       "282       male  \n",
       "295       male  \n",
       "572       male  \n",
       "705       male  \n",
       "722       male  \n",
       "723       male  \n",
       "859       male  \n",
       "940       male  \n",
       "\n",
       "[13 rows x 27 columns]"
      ]
     },
     "execution_count": 111,
     "metadata": {},
     "output_type": "execute_result"
    }
   ],
   "source": [
    "all_mismatch_pharma_nonmale"
   ]
  },
  {
   "cell_type": "code",
   "execution_count": 112,
   "metadata": {},
   "outputs": [],
   "source": [
    "#Mention countries most often mismatched\n"
   ]
  },
  {
   "cell_type": "code",
   "execution_count": null,
   "metadata": {},
   "outputs": [],
   "source": [
    "#LIST OF METHODS\n",
    "#gender_x : WGND 1.0\n",
    "#gender_y : WGND 2.0\n",
    "#gender.guesser : Python Gender-Guesser package\n",
    "#ipums_gender: ipums method\n",
    "#ssa_gender : Social Security method\n",
    "#napp_gender : North Atlantic Population Project"
   ]
  },
  {
   "cell_type": "code",
   "execution_count": 113,
   "metadata": {},
   "outputs": [],
   "source": [
    "all_female_mismatch_aggregate=aggregate[(aggregate['gender_x']==0) & (aggregate['gender_y']==0) & (aggregate['gender.guesser']==0) & (aggregate['ipums_gender']==0) & (aggregate['ssa_gender']==0) & (aggregate['napp_gender']==0)& (aggregate['genderized']==0)& (aggregate['male_flag']==1)]"
   ]
  },
  {
   "cell_type": "code",
   "execution_count": 114,
   "metadata": {},
   "outputs": [
    {
     "data": {
      "text/plain": [
       "12"
      ]
     },
     "execution_count": 114,
     "metadata": {},
     "output_type": "execute_result"
    }
   ],
   "source": [
    "len(all_female_mismatch_aggregate)"
   ]
  },
  {
   "cell_type": "code",
   "execution_count": 115,
   "metadata": {},
   "outputs": [
    {
     "data": {
      "text/html": [
       "<div>\n",
       "<style scoped>\n",
       "    .dataframe tbody tr th:only-of-type {\n",
       "        vertical-align: middle;\n",
       "    }\n",
       "\n",
       "    .dataframe tbody tr th {\n",
       "        vertical-align: top;\n",
       "    }\n",
       "\n",
       "    .dataframe thead th {\n",
       "        text-align: right;\n",
       "    }\n",
       "</style>\n",
       "<table border=\"1\" class=\"dataframe\">\n",
       "  <thead>\n",
       "    <tr style=\"text-align: right;\">\n",
       "      <th></th>\n",
       "      <th>name_first</th>\n",
       "      <th>name_last</th>\n",
       "      <th>male_flag</th>\n",
       "    </tr>\n",
       "  </thead>\n",
       "  <tbody>\n",
       "    <tr>\n",
       "      <th>21</th>\n",
       "      <td>Caroline</td>\n",
       "      <td>Martin</td>\n",
       "      <td>1.0</td>\n",
       "    </tr>\n",
       "    <tr>\n",
       "      <th>680</th>\n",
       "      <td>Audrey</td>\n",
       "      <td>Brown</td>\n",
       "      <td>1.0</td>\n",
       "    </tr>\n",
       "    <tr>\n",
       "      <th>54</th>\n",
       "      <td>Linda</td>\n",
       "      <td>Parker</td>\n",
       "      <td>1.0</td>\n",
       "    </tr>\n",
       "    <tr>\n",
       "      <th>70</th>\n",
       "      <td>Esther</td>\n",
       "      <td>Schmitt</td>\n",
       "      <td>1.0</td>\n",
       "    </tr>\n",
       "    <tr>\n",
       "      <th>292</th>\n",
       "      <td>Claire</td>\n",
       "      <td>Wilson</td>\n",
       "      <td>1.0</td>\n",
       "    </tr>\n",
       "    <tr>\n",
       "      <th>293</th>\n",
       "      <td>Adriana</td>\n",
       "      <td>Katz</td>\n",
       "      <td>1.0</td>\n",
       "    </tr>\n",
       "    <tr>\n",
       "      <th>535</th>\n",
       "      <td>Marie</td>\n",
       "      <td>Andersson</td>\n",
       "      <td>1.0</td>\n",
       "    </tr>\n",
       "    <tr>\n",
       "      <th>541</th>\n",
       "      <td>Jenny</td>\n",
       "      <td>Viklund</td>\n",
       "      <td>1.0</td>\n",
       "    </tr>\n",
       "    <tr>\n",
       "      <th>618</th>\n",
       "      <td>Diana</td>\n",
       "      <td>Thompson</td>\n",
       "      <td>1.0</td>\n",
       "    </tr>\n",
       "    <tr>\n",
       "      <th>640</th>\n",
       "      <td>Melinda</td>\n",
       "      <td>Sanders</td>\n",
       "      <td>1.0</td>\n",
       "    </tr>\n",
       "    <tr>\n",
       "      <th>699</th>\n",
       "      <td>Julie</td>\n",
       "      <td>Hughes</td>\n",
       "      <td>1.0</td>\n",
       "    </tr>\n",
       "    <tr>\n",
       "      <th>778</th>\n",
       "      <td>Maria</td>\n",
       "      <td>Castaneda</td>\n",
       "      <td>1.0</td>\n",
       "    </tr>\n",
       "  </tbody>\n",
       "</table>\n",
       "</div>"
      ],
      "text/plain": [
       "    name_first  name_last  male_flag\n",
       "21    Caroline     Martin        1.0\n",
       "680     Audrey      Brown        1.0\n",
       "54       Linda     Parker        1.0\n",
       "70      Esther    Schmitt        1.0\n",
       "292     Claire     Wilson        1.0\n",
       "293    Adriana       Katz        1.0\n",
       "535      Marie  Andersson        1.0\n",
       "541      Jenny    Viklund        1.0\n",
       "618      Diana   Thompson        1.0\n",
       "640    Melinda    Sanders        1.0\n",
       "699      Julie     Hughes        1.0\n",
       "778      Maria  Castaneda        1.0"
      ]
     },
     "execution_count": 115,
     "metadata": {},
     "output_type": "execute_result"
    }
   ],
   "source": [
    "all_female_mismatch_aggregate[['name_first','name_last','male_flag']].head(12)"
   ]
  },
  {
   "cell_type": "code",
   "execution_count": 116,
   "metadata": {},
   "outputs": [],
   "source": [
    "all_male_mismatch_aggregate=aggregate[(aggregate['gender_x']==1) & (aggregate['gender_y']==1) & (aggregate['gender.guesser']==1) & (aggregate['ipums_gender']==1) & (aggregate['ssa_gender']==1) & (aggregate['napp_gender']==1)& (aggregate['genderized']==1)& (aggregate['male_flag']==0)]"
   ]
  },
  {
   "cell_type": "code",
   "execution_count": 117,
   "metadata": {},
   "outputs": [
    {
     "data": {
      "text/plain": [
       "81"
      ]
     },
     "execution_count": 117,
     "metadata": {},
     "output_type": "execute_result"
    }
   ],
   "source": [
    "len(all_male_mismatch_aggregate)"
   ]
  },
  {
   "cell_type": "code",
   "execution_count": 118,
   "metadata": {},
   "outputs": [
    {
     "data": {
      "text/html": [
       "<div>\n",
       "<style scoped>\n",
       "    .dataframe tbody tr th:only-of-type {\n",
       "        vertical-align: middle;\n",
       "    }\n",
       "\n",
       "    .dataframe tbody tr th {\n",
       "        vertical-align: top;\n",
       "    }\n",
       "\n",
       "    .dataframe thead th {\n",
       "        text-align: right;\n",
       "    }\n",
       "</style>\n",
       "<table border=\"1\" class=\"dataframe\">\n",
       "  <thead>\n",
       "    <tr style=\"text-align: right;\">\n",
       "      <th></th>\n",
       "      <th>name_first</th>\n",
       "      <th>name_last</th>\n",
       "      <th>male_flag</th>\n",
       "    </tr>\n",
       "  </thead>\n",
       "  <tbody>\n",
       "    <tr>\n",
       "      <th>1</th>\n",
       "      <td>Christian</td>\n",
       "      <td>Neumann</td>\n",
       "      <td>0.0</td>\n",
       "    </tr>\n",
       "    <tr>\n",
       "      <th>40</th>\n",
       "      <td>Adam</td>\n",
       "      <td>Baker</td>\n",
       "      <td>0.0</td>\n",
       "    </tr>\n",
       "    <tr>\n",
       "      <th>51</th>\n",
       "      <td>Donat</td>\n",
       "      <td>Pelletier</td>\n",
       "      <td>0.0</td>\n",
       "    </tr>\n",
       "    <tr>\n",
       "      <th>52</th>\n",
       "      <td>Andrew</td>\n",
       "      <td>Wright</td>\n",
       "      <td>0.0</td>\n",
       "    </tr>\n",
       "    <tr>\n",
       "      <th>53</th>\n",
       "      <td>Martin</td>\n",
       "      <td>Joly</td>\n",
       "      <td>0.0</td>\n",
       "    </tr>\n",
       "    <tr>\n",
       "      <th>56</th>\n",
       "      <td>Rob</td>\n",
       "      <td>Walker</td>\n",
       "      <td>0.0</td>\n",
       "    </tr>\n",
       "    <tr>\n",
       "      <th>57</th>\n",
       "      <td>Caleb</td>\n",
       "      <td>Curtis</td>\n",
       "      <td>0.0</td>\n",
       "    </tr>\n",
       "    <tr>\n",
       "      <th>66</th>\n",
       "      <td>Scott</td>\n",
       "      <td>Kirk</td>\n",
       "      <td>0.0</td>\n",
       "    </tr>\n",
       "    <tr>\n",
       "      <th>78</th>\n",
       "      <td>Yong</td>\n",
       "      <td>Luo</td>\n",
       "      <td>0.0</td>\n",
       "    </tr>\n",
       "    <tr>\n",
       "      <th>84</th>\n",
       "      <td>Yong</td>\n",
       "      <td>Luo</td>\n",
       "      <td>0.0</td>\n",
       "    </tr>\n",
       "    <tr>\n",
       "      <th>102</th>\n",
       "      <td>Andreas</td>\n",
       "      <td>Schroeder</td>\n",
       "      <td>0.0</td>\n",
       "    </tr>\n",
       "    <tr>\n",
       "      <th>104</th>\n",
       "      <td>Klaus</td>\n",
       "      <td>Voigt</td>\n",
       "      <td>0.0</td>\n",
       "    </tr>\n",
       "    <tr>\n",
       "      <th>107</th>\n",
       "      <td>Martin</td>\n",
       "      <td>Kowalski</td>\n",
       "      <td>0.0</td>\n",
       "    </tr>\n",
       "  </tbody>\n",
       "</table>\n",
       "</div>"
      ],
      "text/plain": [
       "    name_first  name_last  male_flag\n",
       "1    Christian    Neumann        0.0\n",
       "40        Adam      Baker        0.0\n",
       "51       Donat  Pelletier        0.0\n",
       "52      Andrew     Wright        0.0\n",
       "53      Martin       Joly        0.0\n",
       "56         Rob     Walker        0.0\n",
       "57       Caleb     Curtis        0.0\n",
       "66       Scott       Kirk        0.0\n",
       "78        Yong        Luo        0.0\n",
       "84        Yong        Luo        0.0\n",
       "102    Andreas  Schroeder        0.0\n",
       "104      Klaus      Voigt        0.0\n",
       "107     Martin   Kowalski        0.0"
      ]
     },
     "execution_count": 118,
     "metadata": {},
     "output_type": "execute_result"
    }
   ],
   "source": [
    "all_male_mismatch_aggregate[['name_first','name_last','male_flag']].head(13)"
   ]
  },
  {
   "cell_type": "code",
   "execution_count": 119,
   "metadata": {},
   "outputs": [],
   "source": [
    "aggregate_young=aggregate[aggregate['cleaned_name']=='young']"
   ]
  },
  {
   "cell_type": "code",
   "execution_count": 120,
   "metadata": {},
   "outputs": [
    {
     "data": {
      "text/plain": [
       "12"
      ]
     },
     "execution_count": 120,
     "metadata": {},
     "output_type": "execute_result"
    }
   ],
   "source": [
    "len(aggregate_young)"
   ]
  },
  {
   "cell_type": "code",
   "execution_count": 121,
   "metadata": {},
   "outputs": [
    {
     "data": {
      "text/html": [
       "<div>\n",
       "<style scoped>\n",
       "    .dataframe tbody tr th:only-of-type {\n",
       "        vertical-align: middle;\n",
       "    }\n",
       "\n",
       "    .dataframe tbody tr th {\n",
       "        vertical-align: top;\n",
       "    }\n",
       "\n",
       "    .dataframe thead th {\n",
       "        text-align: right;\n",
       "    }\n",
       "</style>\n",
       "<table border=\"1\" class=\"dataframe\">\n",
       "  <thead>\n",
       "    <tr style=\"text-align: right;\">\n",
       "      <th></th>\n",
       "      <th>Unnamed: 0</th>\n",
       "      <th>X</th>\n",
       "      <th>Unnamed..0</th>\n",
       "      <th>location_id</th>\n",
       "      <th>inventor_id</th>\n",
       "      <th>name_first</th>\n",
       "      <th>name_last</th>\n",
       "      <th>male_flag</th>\n",
       "      <th>attribution_status</th>\n",
       "      <th>city</th>\n",
       "      <th>...</th>\n",
       "      <th>cleaned_name</th>\n",
       "      <th>gender_x</th>\n",
       "      <th>code_y</th>\n",
       "      <th>gender_y</th>\n",
       "      <th>wgt</th>\n",
       "      <th>gender.guesser</th>\n",
       "      <th>ipums_gender</th>\n",
       "      <th>ssa_gender</th>\n",
       "      <th>napp_gender</th>\n",
       "      <th>genderized</th>\n",
       "    </tr>\n",
       "  </thead>\n",
       "  <tbody>\n",
       "    <tr>\n",
       "      <th>288</th>\n",
       "      <td>288</td>\n",
       "      <td>189639</td>\n",
       "      <td>237986668</td>\n",
       "      <td>faf5b1d2-cb8f-11eb-9615-121df0c29c1e</td>\n",
       "      <td>fl:yo_ln:park-209</td>\n",
       "      <td>Young Hwan</td>\n",
       "      <td>Park</td>\n",
       "      <td>0.0</td>\n",
       "      <td>1</td>\n",
       "      <td>Goyang-si</td>\n",
       "      <td>...</td>\n",
       "      <td>young</td>\n",
       "      <td>0</td>\n",
       "      <td>KR</td>\n",
       "      <td>2</td>\n",
       "      <td>0.666667</td>\n",
       "      <td>2</td>\n",
       "      <td>1</td>\n",
       "      <td>1</td>\n",
       "      <td>1</td>\n",
       "      <td>1</td>\n",
       "    </tr>\n",
       "    <tr>\n",
       "      <th>289</th>\n",
       "      <td>289</td>\n",
       "      <td>175307</td>\n",
       "      <td>221705129</td>\n",
       "      <td>f791c345-cb8e-11eb-9615-121df0c29c1e</td>\n",
       "      <td>fl:yo_ln:song-86</td>\n",
       "      <td>Young Suk</td>\n",
       "      <td>Song</td>\n",
       "      <td>0.0</td>\n",
       "      <td>1</td>\n",
       "      <td>Daejeon</td>\n",
       "      <td>...</td>\n",
       "      <td>young</td>\n",
       "      <td>0</td>\n",
       "      <td>KR</td>\n",
       "      <td>2</td>\n",
       "      <td>0.666667</td>\n",
       "      <td>0</td>\n",
       "      <td>1</td>\n",
       "      <td>1</td>\n",
       "      <td>1</td>\n",
       "      <td>1</td>\n",
       "    </tr>\n",
       "    <tr>\n",
       "      <th>296</th>\n",
       "      <td>296</td>\n",
       "      <td>175272</td>\n",
       "      <td>221704051</td>\n",
       "      <td>f791c345-cb8e-11eb-9615-121df0c29c1e</td>\n",
       "      <td>fl:yo_ln:song-137</td>\n",
       "      <td>Young Chul</td>\n",
       "      <td>Song</td>\n",
       "      <td>0.0</td>\n",
       "      <td>1</td>\n",
       "      <td>Daejeon</td>\n",
       "      <td>...</td>\n",
       "      <td>young</td>\n",
       "      <td>0</td>\n",
       "      <td>KR</td>\n",
       "      <td>2</td>\n",
       "      <td>0.666667</td>\n",
       "      <td>1</td>\n",
       "      <td>1</td>\n",
       "      <td>1</td>\n",
       "      <td>1</td>\n",
       "      <td>1</td>\n",
       "    </tr>\n",
       "    <tr>\n",
       "      <th>298</th>\n",
       "      <td>298</td>\n",
       "      <td>146764</td>\n",
       "      <td>189889528</td>\n",
       "      <td>e8ec5703-cb8f-11eb-9615-121df0c29c1e</td>\n",
       "      <td>fl:yo_ln:kim-553</td>\n",
       "      <td>Young Joo</td>\n",
       "      <td>Kim</td>\n",
       "      <td>0.0</td>\n",
       "      <td>1</td>\n",
       "      <td>Anyang-si</td>\n",
       "      <td>...</td>\n",
       "      <td>young</td>\n",
       "      <td>0</td>\n",
       "      <td>KR</td>\n",
       "      <td>2</td>\n",
       "      <td>0.666667</td>\n",
       "      <td>0</td>\n",
       "      <td>1</td>\n",
       "      <td>1</td>\n",
       "      <td>1</td>\n",
       "      <td>1</td>\n",
       "    </tr>\n",
       "    <tr>\n",
       "      <th>304</th>\n",
       "      <td>304</td>\n",
       "      <td>240570</td>\n",
       "      <td>285969427</td>\n",
       "      <td>fff243a6-cb8e-11eb-9615-121df0c29c1e</td>\n",
       "      <td>fl:yo_ln:han-161</td>\n",
       "      <td>Young Soo</td>\n",
       "      <td>Han</td>\n",
       "      <td>0.0</td>\n",
       "      <td>1</td>\n",
       "      <td>Kyungki-do</td>\n",
       "      <td>...</td>\n",
       "      <td>young</td>\n",
       "      <td>0</td>\n",
       "      <td>KR</td>\n",
       "      <td>2</td>\n",
       "      <td>0.666667</td>\n",
       "      <td>1</td>\n",
       "      <td>1</td>\n",
       "      <td>1</td>\n",
       "      <td>1</td>\n",
       "      <td>1</td>\n",
       "    </tr>\n",
       "  </tbody>\n",
       "</table>\n",
       "<p>5 rows × 27 columns</p>\n",
       "</div>"
      ],
      "text/plain": [
       "     Unnamed: 0       X  Unnamed..0                           location_id  \\\n",
       "288         288  189639   237986668  faf5b1d2-cb8f-11eb-9615-121df0c29c1e   \n",
       "289         289  175307   221705129  f791c345-cb8e-11eb-9615-121df0c29c1e   \n",
       "296         296  175272   221704051  f791c345-cb8e-11eb-9615-121df0c29c1e   \n",
       "298         298  146764   189889528  e8ec5703-cb8f-11eb-9615-121df0c29c1e   \n",
       "304         304  240570   285969427  fff243a6-cb8e-11eb-9615-121df0c29c1e   \n",
       "\n",
       "           inventor_id  name_first name_last  male_flag  attribution_status  \\\n",
       "288  fl:yo_ln:park-209  Young Hwan      Park        0.0                   1   \n",
       "289   fl:yo_ln:song-86   Young Suk      Song        0.0                   1   \n",
       "296  fl:yo_ln:song-137  Young Chul      Song        0.0                   1   \n",
       "298   fl:yo_ln:kim-553   Young Joo       Kim        0.0                   1   \n",
       "304   fl:yo_ln:han-161   Young Soo       Han        0.0                   1   \n",
       "\n",
       "           city  ... cleaned_name gender_x  code_y  gender_y       wgt  \\\n",
       "288   Goyang-si  ...        young        0      KR         2  0.666667   \n",
       "289     Daejeon  ...        young        0      KR         2  0.666667   \n",
       "296     Daejeon  ...        young        0      KR         2  0.666667   \n",
       "298   Anyang-si  ...        young        0      KR         2  0.666667   \n",
       "304  Kyungki-do  ...        young        0      KR         2  0.666667   \n",
       "\n",
       "     gender.guesser  ipums_gender ssa_gender  napp_gender genderized  \n",
       "288               2             1          1            1          1  \n",
       "289               0             1          1            1          1  \n",
       "296               1             1          1            1          1  \n",
       "298               0             1          1            1          1  \n",
       "304               1             1          1            1          1  \n",
       "\n",
       "[5 rows x 27 columns]"
      ]
     },
     "execution_count": 121,
     "metadata": {},
     "output_type": "execute_result"
    }
   ],
   "source": [
    "aggregate_young.head()"
   ]
  },
  {
   "cell_type": "code",
   "execution_count": 122,
   "metadata": {},
   "outputs": [
    {
     "data": {
      "text/html": [
       "<div>\n",
       "<style scoped>\n",
       "    .dataframe tbody tr th:only-of-type {\n",
       "        vertical-align: middle;\n",
       "    }\n",
       "\n",
       "    .dataframe tbody tr th {\n",
       "        vertical-align: top;\n",
       "    }\n",
       "\n",
       "    .dataframe thead th {\n",
       "        text-align: right;\n",
       "    }\n",
       "</style>\n",
       "<table border=\"1\" class=\"dataframe\">\n",
       "  <thead>\n",
       "    <tr style=\"text-align: right;\">\n",
       "      <th></th>\n",
       "      <th>Unnamed: 0</th>\n",
       "      <th>X</th>\n",
       "      <th>Unnamed..0</th>\n",
       "      <th>location_id</th>\n",
       "      <th>inventor_id</th>\n",
       "      <th>name_first</th>\n",
       "      <th>name_last</th>\n",
       "      <th>male_flag</th>\n",
       "      <th>attribution_status</th>\n",
       "      <th>city</th>\n",
       "      <th>...</th>\n",
       "      <th>cleaned_name</th>\n",
       "      <th>gender_x</th>\n",
       "      <th>code_y</th>\n",
       "      <th>gender_y</th>\n",
       "      <th>wgt</th>\n",
       "      <th>gender.guesser</th>\n",
       "      <th>ipums_gender</th>\n",
       "      <th>ssa_gender</th>\n",
       "      <th>napp_gender</th>\n",
       "      <th>genderized</th>\n",
       "    </tr>\n",
       "  </thead>\n",
       "  <tbody>\n",
       "    <tr>\n",
       "      <th>1</th>\n",
       "      <td>1</td>\n",
       "      <td>103424</td>\n",
       "      <td>137270285</td>\n",
       "      <td>bf97f9d7-cb90-11eb-9615-121df0c29c1e</td>\n",
       "      <td>fl:ch_ln:neumann-12</td>\n",
       "      <td>Christian</td>\n",
       "      <td>Neumann</td>\n",
       "      <td>0.0</td>\n",
       "      <td>1</td>\n",
       "      <td>Absam</td>\n",
       "      <td>...</td>\n",
       "      <td>christian</td>\n",
       "      <td>1</td>\n",
       "      <td>AT</td>\n",
       "      <td>1</td>\n",
       "      <td>1.000000</td>\n",
       "      <td>1</td>\n",
       "      <td>1</td>\n",
       "      <td>1</td>\n",
       "      <td>1</td>\n",
       "      <td>1</td>\n",
       "    </tr>\n",
       "    <tr>\n",
       "      <th>40</th>\n",
       "      <td>40</td>\n",
       "      <td>187747</td>\n",
       "      <td>235855334</td>\n",
       "      <td>fa71140e-09bd-11ec-893a-12de62d610b1</td>\n",
       "      <td>fl:ad_ln:baker-3</td>\n",
       "      <td>Adam</td>\n",
       "      <td>Baker</td>\n",
       "      <td>0.0</td>\n",
       "      <td>1</td>\n",
       "      <td>St. John's</td>\n",
       "      <td>...</td>\n",
       "      <td>adam</td>\n",
       "      <td>1</td>\n",
       "      <td>CA</td>\n",
       "      <td>1</td>\n",
       "      <td>1.000000</td>\n",
       "      <td>1</td>\n",
       "      <td>1</td>\n",
       "      <td>1</td>\n",
       "      <td>1</td>\n",
       "      <td>1</td>\n",
       "    </tr>\n",
       "    <tr>\n",
       "      <th>51</th>\n",
       "      <td>51</td>\n",
       "      <td>66529</td>\n",
       "      <td>90624394</td>\n",
       "      <td>774891c7-cb90-11eb-9615-121df0c29c1e</td>\n",
       "      <td>fl:do_ln:pelletier-3</td>\n",
       "      <td>Donat</td>\n",
       "      <td>Pelletier</td>\n",
       "      <td>0.0</td>\n",
       "      <td>1</td>\n",
       "      <td>St-Philippe</td>\n",
       "      <td>...</td>\n",
       "      <td>donat</td>\n",
       "      <td>1</td>\n",
       "      <td>CA</td>\n",
       "      <td>1</td>\n",
       "      <td>1.000000</td>\n",
       "      <td>1</td>\n",
       "      <td>1</td>\n",
       "      <td>1</td>\n",
       "      <td>1</td>\n",
       "      <td>1</td>\n",
       "    </tr>\n",
       "    <tr>\n",
       "      <th>52</th>\n",
       "      <td>52</td>\n",
       "      <td>235830</td>\n",
       "      <td>281231132</td>\n",
       "      <td>ff818bf8-cb90-11eb-9615-121df0c29c1e</td>\n",
       "      <td>fl:an_ln:wright-40</td>\n",
       "      <td>Andrew</td>\n",
       "      <td>Wright</td>\n",
       "      <td>0.0</td>\n",
       "      <td>1</td>\n",
       "      <td>Edmonton</td>\n",
       "      <td>...</td>\n",
       "      <td>andrew</td>\n",
       "      <td>1</td>\n",
       "      <td>CA</td>\n",
       "      <td>1</td>\n",
       "      <td>0.999973</td>\n",
       "      <td>1</td>\n",
       "      <td>1</td>\n",
       "      <td>1</td>\n",
       "      <td>1</td>\n",
       "      <td>1</td>\n",
       "    </tr>\n",
       "    <tr>\n",
       "      <th>53</th>\n",
       "      <td>53</td>\n",
       "      <td>208800</td>\n",
       "      <td>259542517</td>\n",
       "      <td>fcc078c3-09bd-11ec-893a-12de62d610b1</td>\n",
       "      <td>fl:ma_ln:joly-4</td>\n",
       "      <td>Martin</td>\n",
       "      <td>Joly</td>\n",
       "      <td>0.0</td>\n",
       "      <td>1</td>\n",
       "      <td>Alberta</td>\n",
       "      <td>...</td>\n",
       "      <td>martin</td>\n",
       "      <td>1</td>\n",
       "      <td>CA</td>\n",
       "      <td>1</td>\n",
       "      <td>1.000000</td>\n",
       "      <td>1</td>\n",
       "      <td>1</td>\n",
       "      <td>1</td>\n",
       "      <td>1</td>\n",
       "      <td>1</td>\n",
       "    </tr>\n",
       "  </tbody>\n",
       "</table>\n",
       "<p>5 rows × 27 columns</p>\n",
       "</div>"
      ],
      "text/plain": [
       "    Unnamed: 0       X  Unnamed..0                           location_id  \\\n",
       "1            1  103424   137270285  bf97f9d7-cb90-11eb-9615-121df0c29c1e   \n",
       "40          40  187747   235855334  fa71140e-09bd-11ec-893a-12de62d610b1   \n",
       "51          51   66529    90624394  774891c7-cb90-11eb-9615-121df0c29c1e   \n",
       "52          52  235830   281231132  ff818bf8-cb90-11eb-9615-121df0c29c1e   \n",
       "53          53  208800   259542517  fcc078c3-09bd-11ec-893a-12de62d610b1   \n",
       "\n",
       "             inventor_id name_first  name_last  male_flag  attribution_status  \\\n",
       "1    fl:ch_ln:neumann-12  Christian    Neumann        0.0                   1   \n",
       "40      fl:ad_ln:baker-3       Adam      Baker        0.0                   1   \n",
       "51  fl:do_ln:pelletier-3      Donat  Pelletier        0.0                   1   \n",
       "52    fl:an_ln:wright-40     Andrew     Wright        0.0                   1   \n",
       "53       fl:ma_ln:joly-4     Martin       Joly        0.0                   1   \n",
       "\n",
       "           city  ... cleaned_name gender_x  code_y  gender_y       wgt  \\\n",
       "1         Absam  ...    christian        1      AT         1  1.000000   \n",
       "40   St. John's  ...         adam        1      CA         1  1.000000   \n",
       "51  St-Philippe  ...        donat        1      CA         1  1.000000   \n",
       "52     Edmonton  ...       andrew        1      CA         1  0.999973   \n",
       "53      Alberta  ...       martin        1      CA         1  1.000000   \n",
       "\n",
       "    gender.guesser  ipums_gender ssa_gender  napp_gender genderized  \n",
       "1                1             1          1            1          1  \n",
       "40               1             1          1            1          1  \n",
       "51               1             1          1            1          1  \n",
       "52               1             1          1            1          1  \n",
       "53               1             1          1            1          1  \n",
       "\n",
       "[5 rows x 27 columns]"
      ]
     },
     "execution_count": 122,
     "metadata": {},
     "output_type": "execute_result"
    }
   ],
   "source": [
    "all_male_mismatch_aggregate.head()"
   ]
  },
  {
   "cell_type": "markdown",
   "metadata": {},
   "source": [
    "<h1>Napp Gender</h1>"
   ]
  },
  {
   "cell_type": "code",
   "execution_count": 57,
   "metadata": {},
   "outputs": [
    {
     "data": {
      "text/plain": [
       "male       781\n",
       "unknown    192\n",
       "female      22\n",
       "either       5\n",
       "Name: napp_gender, dtype: int64"
      ]
     },
     "execution_count": 57,
     "metadata": {},
     "output_type": "execute_result"
    }
   ],
   "source": [
    "#What are the possible options\n",
    "civil_male['napp_gender'].value_counts()"
   ]
  },
  {
   "cell_type": "code",
   "execution_count": 58,
   "metadata": {},
   "outputs": [],
   "source": [
    "#Which rows are assigned Unknown\n",
    "unknown_napp_civil_male=civil_male[civil_male['napp_gender']=='unknown']\n",
    "unknown_napp_civil_nonmale=civil_nonmale[civil_nonmale['napp_gender']=='unknown']\n",
    "unknown_napp_pharma_male=pharma_male[pharma_male['napp_gender']=='unknown']\n",
    "unknown_napp_pharma_nonmale=pharma_nonmale[pharma_nonmale['napp_gender']=='unknown']"
   ]
  },
  {
   "cell_type": "markdown",
   "metadata": {},
   "source": [
    "<h4> Number of Unknowns are:<br>\n",
    "    192 out of 1000 for civil_male (19.2 % unknown)<br>\n",
    "    318 out of 1000 for civil_nonmale (31.8 % unknown)<br>\n",
    "    378 out of 1000 for pharma_male (37.8 % unknown)<br>\n",
    "    376 out of 1000 for pharma_nonmale (37.6 % unknown)</h4>"
   ]
  },
  {
   "cell_type": "markdown",
   "metadata": {},
   "source": [
    "<h2>Which Countries are mismatched most often?</h2>"
   ]
  },
  {
   "cell_type": "code",
   "execution_count": 59,
   "metadata": {},
   "outputs": [
    {
     "data": {
      "text/plain": [
       "JP    75\n",
       "US    49\n",
       "FR     8\n",
       "DE     8\n",
       "KR     6\n",
       "CA     6\n",
       "AU     5\n",
       "NL     4\n",
       "CN     4\n",
       "RU     3\n",
       "Name: country, dtype: int64"
      ]
     },
     "execution_count": 59,
     "metadata": {},
     "output_type": "execute_result"
    }
   ],
   "source": [
    "unknown_napp_civil_male['country'].value_counts()[:10]\n",
    "#Add percentage of inventors from each country."
   ]
  },
  {
   "cell_type": "code",
   "execution_count": 60,
   "metadata": {},
   "outputs": [
    {
     "data": {
      "text/plain": [
       "US    129\n",
       "JP     66\n",
       "KR     32\n",
       "CN     18\n",
       "CA     16\n",
       "IN     13\n",
       "GB      9\n",
       "IT      4\n",
       "ES      4\n",
       "SA      3\n",
       "Name: country, dtype: int64"
      ]
     },
     "execution_count": 60,
     "metadata": {},
     "output_type": "execute_result"
    }
   ],
   "source": [
    "unknown_napp_civil_nonmale['country'].value_counts()[:10]"
   ]
  },
  {
   "cell_type": "code",
   "execution_count": 61,
   "metadata": {},
   "outputs": [
    {
     "data": {
      "text/plain": [
       "JP    143\n",
       "US     78\n",
       "GB     20\n",
       "KR     19\n",
       "IN     16\n",
       "DE     16\n",
       "IT     14\n",
       "FR     13\n",
       "CA     10\n",
       "IL      8\n",
       "Name: country, dtype: int64"
      ]
     },
     "execution_count": 61,
     "metadata": {},
     "output_type": "execute_result"
    }
   ],
   "source": [
    "unknown_napp_pharma_male['country'].value_counts()[:10]"
   ]
  },
  {
   "cell_type": "code",
   "execution_count": 62,
   "metadata": {},
   "outputs": [
    {
     "data": {
      "text/plain": [
       "US    117\n",
       "JP     75\n",
       "IN     35\n",
       "KR     28\n",
       "GB     18\n",
       "FR     16\n",
       "CA      9\n",
       "IL      9\n",
       "HU      8\n",
       "CN      8\n",
       "Name: country, dtype: int64"
      ]
     },
     "execution_count": 62,
     "metadata": {},
     "output_type": "execute_result"
    }
   ],
   "source": [
    "unknown_napp_pharma_nonmale['country'].value_counts()[:10]"
   ]
  },
  {
   "cell_type": "markdown",
   "metadata": {},
   "source": [
    "<h3> Most unknown names </h3>"
   ]
  },
  {
   "cell_type": "code",
   "execution_count": 32,
   "metadata": {},
   "outputs": [
    {
     "data": {
      "text/plain": [
       "thierry      3\n",
       "ryan         3\n",
       "osamu        2\n",
       "atsushi      2\n",
       "kirk         2\n",
       "takao        2\n",
       "yoshihisa    2\n",
       "hirofumi     2\n",
       "yoshitaka    2\n",
       "shigeki      2\n",
       "Name: cleaned_name, dtype: int64"
      ]
     },
     "execution_count": 32,
     "metadata": {},
     "output_type": "execute_result"
    }
   ],
   "source": [
    "unknown_napp_civil_male['cleaned_name'].value_counts()[:10]"
   ]
  },
  {
   "cell_type": "code",
   "execution_count": 33,
   "metadata": {},
   "outputs": [
    {
     "data": {
      "text/plain": [
       "dawn        4\n",
       "casey       4\n",
       "jennifer    4\n",
       "masami      3\n",
       "hong        3\n",
       "yu          3\n",
       "yun         3\n",
       "yasuo       2\n",
       "yang        2\n",
       "masaki      2\n",
       "Name: cleaned_name, dtype: int64"
      ]
     },
     "execution_count": 33,
     "metadata": {},
     "output_type": "execute_result"
    }
   ],
   "source": [
    "unknown_napp_civil_nonmale['cleaned_name'].value_counts()[:10]"
   ]
  },
  {
   "cell_type": "code",
   "execution_count": 34,
   "metadata": {},
   "outputs": [
    {
     "data": {
      "text/plain": [
       "hiroshi    5\n",
       "isao       4\n",
       "thierry    3\n",
       "satoshi    3\n",
       "tomomi     3\n",
       "takeshi    3\n",
       "sung       3\n",
       "shaun      2\n",
       "ashok      2\n",
       "minoru     2\n",
       "Name: cleaned_name, dtype: int64"
      ]
     },
     "execution_count": 34,
     "metadata": {},
     "output_type": "execute_result"
    }
   ],
   "source": [
    "unknown_napp_pharma_male['cleaned_name'].value_counts()[:10]"
   ]
  },
  {
   "cell_type": "code",
   "execution_count": 35,
   "metadata": {},
   "outputs": [
    {
     "data": {
      "text/plain": [
       "jennifer     9\n",
       "cheryl       4\n",
       "akiko        4\n",
       "hee          4\n",
       "chika        3\n",
       "ekaterina    3\n",
       "agnieszka    3\n",
       "ying         3\n",
       "svetlana     3\n",
       "natalya      3\n",
       "Name: cleaned_name, dtype: int64"
      ]
     },
     "execution_count": 35,
     "metadata": {},
     "output_type": "execute_result"
    }
   ],
   "source": [
    "unknown_napp_pharma_nonmale['cleaned_name'].value_counts()[:10]"
   ]
  },
  {
   "cell_type": "code",
   "execution_count": null,
   "metadata": {},
   "outputs": [],
   "source": [
    "<h2> NAPP Gender Mismatches </h2>"
   ]
  },
  {
   "cell_type": "code",
   "execution_count": 38,
   "metadata": {},
   "outputs": [],
   "source": [
    "civil_male_napp_mismatch=civil_male[civil_male['napp_gender']=='female']\n",
    "civil_nonmale_napp_mismatch=civil_nonmale[civil_nonmale['napp_gender']=='male']\n",
    "pharma_male_napp_mismatch=pharma_male[pharma_male['napp_gender']=='female']\n",
    "pharma_nonmale_napp_mismatch=pharma_nonmale[pharma_nonmale['napp_gender']=='male']"
   ]
  },
  {
   "cell_type": "code",
   "execution_count": 45,
   "metadata": {},
   "outputs": [
    {
     "name": "stdout",
     "output_type": "stream",
     "text": [
      "Civil Male Mismatch Napp: 22\n",
      "Civil Male Napp accuracy= 78.1%\n",
      "Civil NonMale Mismatch Napp: 312\n",
      "Civil Non Male Napp accuracy= 36.3%\n",
      "Pharma Male Mismatch Napp: 40\n",
      "Pharma Male Napp accuracy= 58.0%\n",
      "Pharma NonMale Mismatch Napp: 71\n",
      "Pharma Non Male Napp accuracy= 55.0%\n"
     ]
    }
   ],
   "source": [
    "print(\"Civil Male Mismatch Napp: \"+ str(len(civil_male_napp_mismatch))+ \"\\nCivil Male Napp accuracy= \"+(str(len(civil_male[civil_male['napp_gender']=='male'])/10))+\"%\")\n",
    "print(\"Civil NonMale Mismatch Napp: \"+ str(len(civil_nonmale_napp_mismatch))+ \"\\nCivil Non Male Napp accuracy= \"+(str(len(civil_nonmale[civil_nonmale['napp_gender']=='female'])/10))+\"%\")\n",
    "print(\"Pharma Male Mismatch Napp: \"+ str(len(pharma_male_napp_mismatch))+ \"\\nPharma Male Napp accuracy= \"+(str(len(pharma_male[pharma_male['napp_gender']=='male'])/10))+\"%\")\n",
    "print(\"Pharma NonMale Mismatch Napp: \"+ str(len(pharma_nonmale_napp_mismatch))+ \"\\nPharma Non Male Napp accuracy= \"+(str(len(pharma_nonmale[pharma_nonmale['napp_gender']=='female'])/10))+\"%\")"
   ]
  },
  {
   "cell_type": "code",
   "execution_count": 47,
   "metadata": {},
   "outputs": [
    {
     "data": {
      "text/plain": [
       "tony        4\n",
       "amir        3\n",
       "jose        2\n",
       "jae         2\n",
       "maria       1\n",
       "caroline    1\n",
       "mario       1\n",
       "jordi       1\n",
       "matti       1\n",
       "audrey      1\n",
       "sami        1\n",
       "cary        1\n",
       "sophia      1\n",
       "marty       1\n",
       "gene        1\n",
       "Name: cleaned_name, dtype: int64"
      ]
     },
     "execution_count": 47,
     "metadata": {},
     "output_type": "execute_result"
    }
   ],
   "source": [
    "civil_male_napp_mismatch['cleaned_name'].value_counts()[:10]"
   ]
  },
  {
   "cell_type": "code",
   "execution_count": 55,
   "metadata": {},
   "outputs": [
    {
     "data": {
      "text/plain": [
       "cleaned_name  country\n",
       "young         KR         9\n",
       "james         US         8\n",
       "michael       US         7\n",
       "leslie        US         6\n",
       "michelle      US         5\n",
       "mike          US         5\n",
       "dominique     FR         5\n",
       "steve         US         4\n",
       "jeffrey       US         4\n",
       "kerry         US         4\n",
       "dtype: int64"
      ]
     },
     "execution_count": 55,
     "metadata": {},
     "output_type": "execute_result"
    }
   ],
   "source": [
    "civil_nonmale_napp_mismatch[['cleaned_name','country']].value_counts()[:10]"
   ]
  },
  {
   "cell_type": "code",
   "execution_count": 53,
   "metadata": {},
   "outputs": [
    {
     "data": {
      "text/plain": [
       "cleaned_name  country\n",
       "andrea        US         2\n",
       "randy         US         2\n",
       "vivek         IN         1\n",
       "diana         US         1\n",
       "jordi         US         1\n",
       "joan          ES         1\n",
       "jinny         US         1\n",
       "jenny         SE         1\n",
       "gerd          DE         1\n",
       "esther        CH         1\n",
       "dtype: int64"
      ]
     },
     "execution_count": 53,
     "metadata": {},
     "output_type": "execute_result"
    }
   ],
   "source": [
    "pharma_male_napp_mismatch[['cleaned_name','country']].value_counts()[:10]"
   ]
  },
  {
   "cell_type": "code",
   "execution_count": 54,
   "metadata": {},
   "outputs": [
    {
     "data": {
      "text/plain": [
       "cleaned_name  country\n",
       "kristen       US         3\n",
       "jin           KR         3\n",
       "sharon        US         2\n",
       "carol         US         2\n",
       "gail          US         2\n",
       "jean          US         2\n",
       "laurence      FR         2\n",
       "michelle      US         2\n",
       "shannon       US         2\n",
       "young         US         2\n",
       "dtype: int64"
      ]
     },
     "execution_count": 54,
     "metadata": {},
     "output_type": "execute_result"
    }
   ],
   "source": [
    "pharma_nonmale_napp_mismatch[['cleaned_name','country']].value_counts()[:10]"
   ]
  },
  {
   "cell_type": "code",
   "execution_count": 36,
   "metadata": {},
   "outputs": [
    {
     "data": {
      "text/plain": [
       "female     550\n",
       "unknown    376\n",
       "male        71\n",
       "either       3\n",
       "Name: napp_gender, dtype: int64"
      ]
     },
     "execution_count": 36,
     "metadata": {},
     "output_type": "execute_result"
    }
   ],
   "source": [
    "pharma_nonmale['napp_gender'].value_counts()"
   ]
  },
  {
   "cell_type": "code",
   "execution_count": 3,
   "metadata": {},
   "outputs": [],
   "source": [
    "civil_male['male_flag'].fillna(2,inplace=True)\n",
    "civil_male['genderized'].fillna(2,inplace=True)\n",
    "civil_male['gender_x'].fillna(2,inplace=True)\n",
    "civil_male['genderized'].replace(['female','male'],[0,1],inplace=True)\n",
    "civil_male['gender_x'].replace(['F','M'],[0,1],inplace=True)\n",
    "civil_male['gender_y'].replace(['F','M','?'],[0,1,2],inplace=True)\n",
    "civil_male['gender.guesser'].replace(['female','mostly_female','male','mostly_male','andy','unknown'],[0,0,1,1,2,2],inplace=True)\n",
    "civil_male['ipums_gender'].replace(['female','male','either','unknown'],[0,1,2,2],inplace=True)\n",
    "civil_male['ssa_gender'].replace(['female','male','unknown'],[0,1,2],inplace=True)\n",
    "civil_male['napp_gender'].replace(['female','male','either','unknown'],[0,1,2,2],inplace=True)"
   ]
  },
  {
   "cell_type": "code",
   "execution_count": 4,
   "metadata": {},
   "outputs": [],
   "source": [
    "civil_nonmale['male_flag'].fillna(2,inplace=True)\n",
    "civil_nonmale['genderized'].fillna(2,inplace=True)\n",
    "civil_nonmale['gender_x'].fillna(2,inplace=True)\n",
    "civil_nonmale['genderized'].replace(['female','male'],[0,1],inplace=True)\n",
    "civil_nonmale['gender_x'].replace(['F','M'],[0,1],inplace=True)\n",
    "civil_nonmale['gender_y'].replace(['F','M','?'],[0,1,2],inplace=True)\n",
    "civil_nonmale['gender.guesser'].replace(['female','mostly_female','male','mostly_male','andy','unknown'],[0,0,1,1,2,2],inplace=True)\n",
    "civil_nonmale['ipums_gender'].replace(['female','male','either','unknown'],[0,1,2,2],inplace=True)\n",
    "civil_nonmale['ssa_gender'].replace(['female','male','unknown'],[0,1,2],inplace=True)\n",
    "civil_nonmale['napp_gender'].replace(['female','male','either','unknown'],[0,1,2,2],inplace=True)"
   ]
  },
  {
   "cell_type": "code",
   "execution_count": 5,
   "metadata": {},
   "outputs": [],
   "source": [
    "pharma_male['male_flag'].fillna(2,inplace=True)\n",
    "pharma_male['genderized'].fillna(2,inplace=True)\n",
    "pharma_male['gender_x'].fillna(2,inplace=True)\n",
    "pharma_male['genderized'].replace(['female','male'],[0,1],inplace=True)\n",
    "pharma_male['gender_x'].replace(['F','M'],[0,1],inplace=True)\n",
    "pharma_male['gender_y'].replace(['F','M','?'],[0,1,2],inplace=True)\n",
    "pharma_male['gender.guesser'].replace(['female','mostly_female','male','mostly_male','andy','unknown'],[0,0,1,1,2,2],inplace=True)\n",
    "pharma_male['ipums_gender'].replace(['female','male','either','unknown'],[0,1,2,2],inplace=True)\n",
    "pharma_male['ssa_gender'].replace(['female','male','unknown'],[0,1,2],inplace=True)\n",
    "pharma_male['napp_gender'].replace(['female','male','either','unknown'],[0,1,2,2],inplace=True)"
   ]
  },
  {
   "cell_type": "code",
   "execution_count": 6,
   "metadata": {},
   "outputs": [],
   "source": [
    "pharma_nonmale['male_flag'].fillna(2,inplace=True)\n",
    "pharma_nonmale['genderized'].fillna(2,inplace=True)\n",
    "pharma_nonmale['gender_x'].fillna(2,inplace=True)\n",
    "pharma_nonmale['genderized'].replace(['female','male'],[0,1],inplace=True)\n",
    "pharma_nonmale['gender_x'].replace(['F','M'],[0,1],inplace=True)\n",
    "pharma_nonmale['gender_y'].replace(['F','M','?'],[0,1,2],inplace=True)\n",
    "pharma_nonmale['gender.guesser'].replace(['female','mostly_female','male','mostly_male','andy','unknown'],[0,0,1,1,2,2],inplace=True)\n",
    "pharma_nonmale['ipums_gender'].replace(['female','male','either','unknown'],[0,1,2,2],inplace=True)\n",
    "pharma_nonmale['ssa_gender'].replace(['female','male','unknown'],[0,1,2],inplace=True)\n",
    "pharma_nonmale['napp_gender'].replace(['female','male','either','unknown'],[0,1,2,2],inplace=True)"
   ]
  },
  {
   "cell_type": "code",
   "execution_count": 7,
   "metadata": {},
   "outputs": [],
   "source": [
    "all_mismatch_civil_male=civil_male[(civil_male['gender_x']==0) & (civil_male['gender_y']==0) & (civil_male['gender.guesser']==0) & (civil_male['ipums_gender']==0) & (civil_male['ssa_gender']==0) & (civil_male['napp_gender']==0)& (pharma_male['genderized']==0)]"
   ]
  },
  {
   "cell_type": "code",
   "execution_count": 8,
   "metadata": {},
   "outputs": [],
   "source": [
    "WGND2_mismatch_civil_male=civil_male[(civil_male['gender_y']==0)]"
   ]
  },
  {
   "cell_type": "code",
   "execution_count": 9,
   "metadata": {},
   "outputs": [
    {
     "data": {
      "text/plain": [
       "sophia      1\n",
       "krishna     1\n",
       "audrey      1\n",
       "leslie      1\n",
       "kazumi      1\n",
       "parveen     1\n",
       "caroline    1\n",
       "maria       1\n",
       "jean        1\n",
       "sharon      1\n",
       "Name: cleaned_name, dtype: int64"
      ]
     },
     "execution_count": 9,
     "metadata": {},
     "output_type": "execute_result"
    }
   ],
   "source": [
    "WGND2_mismatch_civil_male['cleaned_name'].value_counts().head(10)"
   ]
  },
  {
   "cell_type": "code",
   "execution_count": 10,
   "metadata": {},
   "outputs": [],
   "source": [
    "GENDERIZEIO_mismatch_civil_male=civil_male[(civil_male['genderized']==0)]"
   ]
  },
  {
   "cell_type": "code",
   "execution_count": 11,
   "metadata": {},
   "outputs": [
    {
     "data": {
      "text/plain": [
       "audrey     1\n",
       "leslie     1\n",
       "kazumi     1\n",
       "ira        1\n",
       "maria      1\n",
       "parveen    1\n",
       "lei        1\n",
       "sharon     1\n",
       "sophia     1\n",
       "gi         1\n",
       "Name: cleaned_name, dtype: int64"
      ]
     },
     "execution_count": 11,
     "metadata": {},
     "output_type": "execute_result"
    }
   ],
   "source": [
    "GENDERIZEIO_mismatch_civil_male['cleaned_name'].value_counts().head(10)"
   ]
  },
  {
   "cell_type": "code",
   "execution_count": 12,
   "metadata": {},
   "outputs": [],
   "source": [
    "WGND2_mismatch_civil_nonmale=civil_nonmale[(civil_nonmale['gender_y']==1)]\n",
    "GENDERIZEIO_mismatch_civil_nonmale=civil_nonmale[(civil_nonmale['genderized']==1)]"
   ]
  },
  {
   "cell_type": "code",
   "execution_count": 62,
   "metadata": {},
   "outputs": [
    {
     "data": {
      "text/plain": [
       "1000"
      ]
     },
     "execution_count": 62,
     "metadata": {},
     "output_type": "execute_result"
    }
   ],
   "source": []
  },
  {
   "cell_type": "code",
   "execution_count": 13,
   "metadata": {},
   "outputs": [
    {
     "data": {
      "text/plain": [
       "michael      9\n",
       "james        9\n",
       "john         5\n",
       "dominique    5\n",
       "mike         5\n",
       "jeffrey      4\n",
       "steve        4\n",
       "samuel       4\n",
       "casey        4\n",
       "merle        4\n",
       "Name: cleaned_name, dtype: int64"
      ]
     },
     "execution_count": 13,
     "metadata": {},
     "output_type": "execute_result"
    }
   ],
   "source": [
    "WGND2_mismatch_civil_nonmale['cleaned_name'].value_counts().head(10)"
   ]
  },
  {
   "cell_type": "code",
   "execution_count": 14,
   "metadata": {},
   "outputs": [
    {
     "data": {
      "text/plain": [
       "young        9\n",
       "james        9\n",
       "michael      9\n",
       "mike         5\n",
       "dominique    5\n",
       "john         5\n",
       "kevin        4\n",
       "andrew       4\n",
       "samuel       4\n",
       "jeffrey      4\n",
       "Name: cleaned_name, dtype: int64"
      ]
     },
     "execution_count": 14,
     "metadata": {},
     "output_type": "execute_result"
    }
   ],
   "source": [
    "GENDERIZEIO_mismatch_civil_nonmale['cleaned_name'].value_counts().head(10)"
   ]
  },
  {
   "cell_type": "code",
   "execution_count": 15,
   "metadata": {},
   "outputs": [],
   "source": [
    "WGND2_mismatch_pharma_nonmale=pharma_nonmale[(pharma_nonmale['gender_y']==1)]\n",
    "GENDERIZEIO_mismatch_pharma_nonmale=pharma_nonmale[(pharma_nonmale['genderized']==1)]"
   ]
  },
  {
   "cell_type": "code",
   "execution_count": 16,
   "metadata": {},
   "outputs": [
    {
     "data": {
      "text/plain": [
       "kei            2\n",
       "stephen        2\n",
       "mark           2\n",
       "james          2\n",
       "young          2\n",
       "christopher    2\n",
       "masanobu       1\n",
       "takemi         1\n",
       "young-min      1\n",
       "avadhesha      1\n",
       "Name: cleaned_name, dtype: int64"
      ]
     },
     "execution_count": 16,
     "metadata": {},
     "output_type": "execute_result"
    }
   ],
   "source": [
    "WGND2_mismatch_pharma_nonmale['cleaned_name'].value_counts().head(10)"
   ]
  },
  {
   "cell_type": "code",
   "execution_count": 17,
   "metadata": {},
   "outputs": [
    {
     "data": {
      "text/plain": [
       "young          3\n",
       "jin            3\n",
       "hyun           2\n",
       "stephen        2\n",
       "kei            2\n",
       "mark           2\n",
       "christopher    2\n",
       "laurence       2\n",
       "james          2\n",
       "ji             1\n",
       "Name: cleaned_name, dtype: int64"
      ]
     },
     "execution_count": 17,
     "metadata": {},
     "output_type": "execute_result"
    }
   ],
   "source": [
    "GENDERIZEIO_mismatch_pharma_nonmale['cleaned_name'].value_counts().head(10)"
   ]
  },
  {
   "cell_type": "code",
   "execution_count": 63,
   "metadata": {},
   "outputs": [],
   "source": [
    "WGND2_mismatch_pharma_male=pharma_male[(pharma_male['gender_y']==0)]\n",
    "GENDERIZEIO_mismatch_pharma_male=pharma_male[(pharma_male['genderized']==0)]"
   ]
  },
  {
   "cell_type": "code",
   "execution_count": 72,
   "metadata": {},
   "outputs": [
    {
     "data": {
      "text/plain": [
       "tomomi     3\n",
       "morgan     2\n",
       "andrea     2\n",
       "karen      1\n",
       "linda      1\n",
       "maureen    1\n",
       "marite     1\n",
       "shikha     1\n",
       "xiaoli     1\n",
       "rachel     1\n",
       "Name: cleaned_name, dtype: int64"
      ]
     },
     "execution_count": 72,
     "metadata": {},
     "output_type": "execute_result"
    }
   ],
   "source": [
    "WGND2_mismatch_pharma_male['cleaned_name'].value_counts().head(10)"
   ]
  },
  {
   "cell_type": "code",
   "execution_count": 73,
   "metadata": {},
   "outputs": [
    {
     "data": {
      "text/plain": [
       "tomomi        3\n",
       "jean          3\n",
       "jean-marie    2\n",
       "andrea        2\n",
       "esther        1\n",
       "jinny         1\n",
       "maria         1\n",
       "marie         1\n",
       "sangeeta      1\n",
       "agnes         1\n",
       "Name: cleaned_name, dtype: int64"
      ]
     },
     "execution_count": 73,
     "metadata": {},
     "output_type": "execute_result"
    }
   ],
   "source": [
    "GENDERIZEIO_mismatch_pharma_male['cleaned_name'].value_counts().head(10)"
   ]
  },
  {
   "cell_type": "code",
   "execution_count": 15,
   "metadata": {},
   "outputs": [],
   "source": [
    "from sklearn.metrics import precision_score\n",
    "from sklearn.metrics import accuracy_score\n",
    "from sklearn.metrics import recall_score\n",
    "from sklearn.metrics import f1_score\n"
   ]
  },
  {
   "cell_type": "code",
   "execution_count": 16,
   "metadata": {},
   "outputs": [],
   "source": [
    "accuracy_score_list_comparison_w=['accuracy_score']\n",
    "accuracy_score_list_comparison_w.append(accuracy_score(list(civil_nonmale['male_flag']), list(civil_nonmale['gender_y'])))\n",
    "accuracy_score_list_comparison_w.append(accuracy_score(list(civil_male['male_flag']), list(civil_male['gender_y'])))\n",
    "accuracy_score_list_comparison_w.append(accuracy_score(list(pharma_nonmale['male_flag']), list(pharma_nonmale['gender_y'])))\n",
    "accuracy_score_list_comparison_w.append(accuracy_score(list(pharma_male['male_flag']), list(pharma_male['gender_y'])))"
   ]
  },
  {
   "cell_type": "code",
   "execution_count": 22,
   "metadata": {},
   "outputs": [],
   "source": [
    "accuracy_score_list_comparison_g=['accuracy_score']\n",
    "accuracy_score_list_comparison_g.append(accuracy_score(list(civil_nonmale['male_flag']), list(civil_nonmale['genderized'])))\n",
    "accuracy_score_list_comparison_g.append(accuracy_score(list(civil_male['male_flag']), list(civil_male['genderized'])))\n",
    "accuracy_score_list_comparison_g.append(accuracy_score(list(pharma_nonmale['male_flag']), list(pharma_nonmale['genderized'])))\n",
    "accuracy_score_list_comparison_g.append(accuracy_score(list(pharma_male['male_flag']), list(pharma_male['genderized'])))"
   ]
  },
  {
   "cell_type": "code",
   "execution_count": 23,
   "metadata": {},
   "outputs": [
    {
     "data": {
      "text/plain": [
       "['accuracy_score', 0.558, 0.984, 0.865, 0.954]"
      ]
     },
     "execution_count": 23,
     "metadata": {},
     "output_type": "execute_result"
    }
   ],
   "source": [
    "accuracy_score_list_comparison_g"
   ]
  },
  {
   "cell_type": "code",
   "execution_count": 18,
   "metadata": {},
   "outputs": [],
   "source": [
    "precision_score_list_comparison=['precision_score']\n",
    "precision_score_list_comparison.append(precision_score(list(civil_nonmale['male_flag']), list(civil_nonmale['gender_y']),average=None))\n",
    "precision_score_list_comparison.append(precision_score(list(civil_male['male_flag']), list(civil_male['gender_y']),average=None))\n",
    "precision_score_list_comparison.append(precision_score(list(pharma_nonmale['male_flag']), list(pharma_nonmale['gender_y']),average=None))\n",
    "precision_score_list_comparison.append(precision_score(list(pharma_male['male_flag']), list(pharma_male['gender_y']),average=None))"
   ]
  },
  {
   "cell_type": "code",
   "execution_count": 19,
   "metadata": {},
   "outputs": [
    {
     "data": {
      "text/plain": [
       "['precision_score',\n",
       " array([0.97377622, 0.        , 0.19512195]),\n",
       " array([0., 1., 0.]),\n",
       " array([0.97968397, 0.        , 0.59259259]),\n",
       " array([0., 1., 0.])]"
      ]
     },
     "execution_count": 19,
     "metadata": {},
     "output_type": "execute_result"
    }
   ],
   "source": [
    "precision_score_list_comparison"
   ]
  },
  {
   "cell_type": "code",
   "execution_count": 20,
   "metadata": {},
   "outputs": [
    {
     "name": "stderr",
     "output_type": "stream",
     "text": [
      "/apps/software/standard/compiler/gcc/9.2.0/jupyter_conda/2020.11-py3.8/lib/python3.8/site-packages/sklearn/metrics/_classification.py:1221: UndefinedMetricWarning: Recall is ill-defined and being set to 0.0 in labels with no true samples. Use `zero_division` parameter to control this behavior.\n",
      "  _warn_prf(average, modifier, msg_start, len(result))\n"
     ]
    }
   ],
   "source": [
    "recall_score_list_comparison=['recall_score']\n",
    "recall_score_list_comparison.append(recall_score(list(civil_nonmale['male_flag']), list(civil_nonmale['gender_y']),average=None))\n",
    "recall_score_list_comparison.append(recall_score(list(civil_male['male_flag']), list(civil_male['gender_y']),average=None))\n",
    "recall_score_list_comparison.append(recall_score(list(pharma_nonmale['male_flag']), list(pharma_nonmale['gender_y']),average=None))\n",
    "recall_score_list_comparison.append(recall_score(list(pharma_male['male_flag']), list(pharma_male['gender_y']),average=None))"
   ]
  },
  {
   "cell_type": "code",
   "execution_count": 21,
   "metadata": {},
   "outputs": [
    {
     "data": {
      "text/plain": [
       "['recall_score',\n",
       " array([0.63584475, 0.        , 0.06451613]),\n",
       " array([0.   , 0.981, 0.   ]),\n",
       " array([0.92834225, 0.        , 0.24615385]),\n",
       " array([0.   , 0.943, 0.   ])]"
      ]
     },
     "execution_count": 21,
     "metadata": {},
     "output_type": "execute_result"
    }
   ],
   "source": [
    "recall_score_list_comparison"
   ]
  },
  {
   "cell_type": "code",
   "execution_count": 43,
   "metadata": {},
   "outputs": [],
   "source": [
    "f1_list_comparison=['f1_score']\n",
    "f1_list_comparison.append(f1_score(list(civil_nonmale['male_flag']), list(civil_nonmale['gender_y']),average=None))\n",
    "f1_list_comparison.append(f1_score(list(civil_male['male_flag']), list(civil_male['gender_y']),average=None))\n",
    "f1_list_comparison.append(f1_score(list(pharma_nonmale['male_flag']), list(pharma_nonmale['gender_y']),average=None))\n",
    "f1_list_comparison.append(f1_score(list(pharma_male['male_flag']), list(pharma_male['gender_y']),average=None))"
   ]
  },
  {
   "cell_type": "code",
   "execution_count": 44,
   "metadata": {},
   "outputs": [
    {
     "data": {
      "text/plain": [
       "['f1_score',\n",
       " array([0.76933702, 0.        , 0.0969697 ]),\n",
       " array([0.        , 0.99040888, 0.        ]),\n",
       " array([0.95332235, 0.        , 0.34782609]),\n",
       " array([0.        , 0.97066392, 0.        ])]"
      ]
     },
     "execution_count": 44,
     "metadata": {},
     "output_type": "execute_result"
    }
   ],
   "source": [
    "f1_list_comparison"
   ]
  },
  {
   "cell_type": "code",
   "execution_count": 26,
   "metadata": {},
   "outputs": [],
   "source": [
    "civil_aggregate=pd.concat([civil_male,civil_nonmale])\n",
    "\n",
    "pharma_aggregate=pd.concat([pharma_male,pharma_nonmale])"
   ]
  },
  {
   "cell_type": "code",
   "execution_count": 80,
   "metadata": {},
   "outputs": [
    {
     "data": {
      "image/png": "[encoded data removed]",
      "text/plain": [
       "<Figure size 432x288 with 2 Axes>"
      ]
     },
     "metadata": {
      "needs_background": "light"
     },
     "output_type": "display_data"
    }
   ],
   "source": [
    "from sklearn import metrics \n",
    "import seaborn as sn\n",
    "import pandas as pd\n",
    "import matplotlib.pyplot as plt\n",
    "confusion_matrix = metrics.confusion_matrix(list(civil_aggregate['male_flag']), list(civil_aggregate['genderized'])) \n",
    "cm_display = metrics.ConfusionMatrixDisplay(confusion_matrix = confusion_matrix, display_labels = ['Female', 'Male','Ambiguous'])\n",
    "#plt.grid(False)\n",
    "\n",
    "\n",
    "cm_display = cm_display.plot(cmap=plt.cm.Blues)\n",
    "plt.grid(False)\n",
    "plt.show()"
   ]
  },
  {
   "cell_type": "code",
   "execution_count": 30,
   "metadata": {},
   "outputs": [
    {
     "data": {
      "image/png": "[encoded data removed]",
      "text/plain": [
       "<Figure size 432x288 with 2 Axes>"
      ]
     },
     "metadata": {
      "needs_background": "light"
     },
     "output_type": "display_data"
    }
   ],
   "source": [
    "from sklearn import metrics \n",
    "import seaborn as sn\n",
    "import pandas as pd\n",
    "import matplotlib.pyplot as plt\n",
    "confusion_matrix = metrics.confusion_matrix(list(pharma_aggregate['male_flag']), list(pharma_aggregate['genderized'])) \n",
    "cm_display = metrics.ConfusionMatrixDisplay(confusion_matrix = confusion_matrix, display_labels = ['Female', 'Male','Ambiguous'])\n",
    "#plt.grid(False)\n",
    "\n",
    "\n",
    "cm_display = cm_display.plot(cmap=plt.cm.Blues)\n",
    "plt.grid(False)\n",
    "plt.show()"
   ]
  },
  {
   "cell_type": "code",
   "execution_count": 81,
   "metadata": {},
   "outputs": [
    {
     "data": {
      "image/png": "[encoded data removed]",
      "text/plain": [
       "<Figure size 432x288 with 2 Axes>"
      ]
     },
     "metadata": {
      "needs_background": "light"
     },
     "output_type": "display_data"
    }
   ],
   "source": [
    "from sklearn import metrics \n",
    "import seaborn as sn\n",
    "import pandas as pd\n",
    "import matplotlib.pyplot as plt\n",
    "confusion_matrix = metrics.confusion_matrix(list(civil_aggregate['male_flag']), list(civil_aggregate['gender_y'])) \n",
    "cm_display = metrics.ConfusionMatrixDisplay(confusion_matrix = confusion_matrix, display_labels = ['Female', 'Male','Ambiguous'])\n",
    "#plt.grid(False)\n",
    "\n",
    "\n",
    "cm_display = cm_display.plot(cmap=plt.cm.Blues)\n",
    "plt.grid(False)\n",
    "plt.show()"
   ]
  },
  {
   "cell_type": "code",
   "execution_count": 82,
   "metadata": {},
   "outputs": [
    {
     "data": {
      "image/png": "[encoded data removed]",
      "text/plain": [
       "<Figure size 432x288 with 2 Axes>"
      ]
     },
     "metadata": {
      "needs_background": "light"
     },
     "output_type": "display_data"
    }
   ],
   "source": [
    "from sklearn import metrics \n",
    "import seaborn as sn\n",
    "import pandas as pd\n",
    "import matplotlib.pyplot as plt\n",
    "confusion_matrix = metrics.confusion_matrix(list(pharma_aggregate['male_flag']), list(pharma_aggregate['gender_y'])) \n",
    "cm_display = metrics.ConfusionMatrixDisplay(confusion_matrix = confusion_matrix, display_labels = ['Female', 'Male','Ambiguous'])\n",
    "#plt.grid(False)\n",
    "\n",
    "\n",
    "cm_display = cm_display.plot(cmap=plt.cm.Blues)\n",
    "plt.grid(False)\n",
    "plt.show()"
   ]
  },
  {
   "cell_type": "code",
   "execution_count": null,
   "metadata": {},
   "outputs": [],
   "source": []
  }
 ],
 "metadata": {
  "kernelspec": {
   "display_name": "Python 3",
   "language": "python",
   "name": "python3"
  },
  "language_info": {
   "codemirror_mode": {
    "name": "ipython",
    "version": 3
   },
   "file_extension": ".py",
   "mimetype": "text/x-python",
   "name": "python",
   "nbconvert_exporter": "python",
   "pygments_lexer": "ipython3",
   "version": "3.8.8"
  }
 },
 "nbformat": 4,
 "nbformat_minor": 4
}
